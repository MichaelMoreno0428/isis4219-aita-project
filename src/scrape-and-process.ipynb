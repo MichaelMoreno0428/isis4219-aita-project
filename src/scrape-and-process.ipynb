{
 "cells": [
  {
   "cell_type": "markdown",
   "metadata": {},
   "source": [
    "# Reddit scrape notebook\n",
    "\n",
    "Script to scrape Reddit r/AmITheAsshole subreddit for posts and comments, using praw: https://praw.readthedocs.io/en/latest/getting_started/quick_start.html"
   ]
  },
  {
   "cell_type": "code",
   "execution_count": 1,
   "metadata": {},
   "outputs": [
    {
     "data": {
      "text/plain": [
       "True"
      ]
     },
     "execution_count": 1,
     "metadata": {},
     "output_type": "execute_result"
    }
   ],
   "source": [
    "import praw\n",
    "import pandas as pd\n",
    "import datetime as dt\n",
    "import time\n",
    "from dotenv import load_dotenv\n",
    "import os\n",
    "import itertools\n",
    "\n",
    "load_dotenv()"
   ]
  },
  {
   "cell_type": "code",
   "execution_count": 4,
   "metadata": {},
   "outputs": [],
   "source": [
    "reddit = praw.Reddit(\n",
    "    client_id=os.getenv(\"REDDIT_CLIENT_ID\"),\n",
    "    client_secret=os.getenv(\"REDDIT_CLIENT_SECRET\"),\n",
    "    password=os.getenv(\"REDDIT_PASS\"),\n",
    "    user_agent=os.getenv(\"REDDIT_USER_AGENT\"),\n",
    "    username=os.getenv(\"REDDIT_UNAME\")\n",
    ")"
   ]
  },
  {
   "cell_type": "code",
   "execution_count": 5,
   "metadata": {},
   "outputs": [],
   "source": [
    "reddit.read_only = True"
   ]
  },
  {
   "cell_type": "code",
   "execution_count": 6,
   "metadata": {},
   "outputs": [
    {
     "name": "stdout",
     "output_type": "stream",
     "text": [
      "AmItheAsshole\n"
     ]
    }
   ],
   "source": [
    "subreddit = reddit.subreddit(\"AmItheAsshole\")\n",
    "print(subreddit.display_name)\n"
   ]
  },
  {
   "cell_type": "code",
   "execution_count": 7,
   "metadata": {},
   "outputs": [],
   "source": [
    "submissions = []\n",
    "for submission in subreddit.top(limit=501, time_filter='week'):\n",
    "    \n",
    "    comment_list = []\n",
    "    submission.comments.replace_more(limit=0)\n",
    "    for top_level_comment in submission.comments[1:]:\n",
    "        comment_list.append(top_level_comment.body)\n",
    "    \n",
    "    submissions.append(\n",
    "        {\n",
    "            \"title\": submission.title,\n",
    "            \"body\": submission.selftext,\n",
    "            \"verdict\": submission.link_flair_text,\n",
    "            \"comments\": comment_list,\n",
    "            \"num_comments\": submission.num_comments,\n",
    "            \"upvotes\": submission.score,\n",
    "            \"upvote_ratio\": submission.upvote_ratio,\n",
    "            \"url\": submission.permalink,\n",
    "            \"created\": submission.created_utc,\n",
    "            \"edited\": submission.edited                       \n",
    "        }\n",
    "    )\n"
   ]
  },
  {
   "cell_type": "code",
   "execution_count": 8,
   "metadata": {},
   "outputs": [],
   "source": [
    "filename = \"aita-500-top-this-week.csv\"\n",
    "data = pd.DataFrame(submissions)\n",
    "data.to_csv(filename)"
   ]
  },
  {
   "cell_type": "code",
   "execution_count": 9,
   "metadata": {},
   "outputs": [
    {
     "data": {
      "text/html": [
       "<div>\n",
       "<style scoped>\n",
       "    .dataframe tbody tr th:only-of-type {\n",
       "        vertical-align: middle;\n",
       "    }\n",
       "\n",
       "    .dataframe tbody tr th {\n",
       "        vertical-align: top;\n",
       "    }\n",
       "\n",
       "    .dataframe thead th {\n",
       "        text-align: right;\n",
       "    }\n",
       "</style>\n",
       "<table border=\"1\" class=\"dataframe\">\n",
       "  <thead>\n",
       "    <tr style=\"text-align: right;\">\n",
       "      <th></th>\n",
       "      <th>title</th>\n",
       "      <th>body</th>\n",
       "      <th>verdict</th>\n",
       "      <th>comments</th>\n",
       "      <th>num_comments</th>\n",
       "      <th>upvotes</th>\n",
       "      <th>upvote_ratio</th>\n",
       "      <th>url</th>\n",
       "      <th>created</th>\n",
       "      <th>edited</th>\n",
       "    </tr>\n",
       "  </thead>\n",
       "  <tbody>\n",
       "    <tr>\n",
       "      <th>0</th>\n",
       "      <td>AITA for asking my GF if she can take a shower?</td>\n",
       "      <td>My GF really only showers once a week, twice i...</td>\n",
       "      <td>Not the A-hole POO Mode</td>\n",
       "      <td>[\"I'm not even sure if I started to resent her...</td>\n",
       "      <td>4253</td>\n",
       "      <td>15872</td>\n",
       "      <td>0.96</td>\n",
       "      <td>/r/AmItheAsshole/comments/1iy5n9x/aita_for_ask...</td>\n",
       "      <td>1.740517e+09</td>\n",
       "      <td>1740790583.0</td>\n",
       "    </tr>\n",
       "    <tr>\n",
       "      <th>1</th>\n",
       "      <td>AITA for insulting my husband for what he said...</td>\n",
       "      <td>My daughter (17f) recently started dating this...</td>\n",
       "      <td>Not the A-hole</td>\n",
       "      <td>[So he would rather your daughter be married t...</td>\n",
       "      <td>1481</td>\n",
       "      <td>10857</td>\n",
       "      <td>0.96</td>\n",
       "      <td>/r/AmItheAsshole/comments/1iz4o6f/aita_for_ins...</td>\n",
       "      <td>1.740621e+09</td>\n",
       "      <td>False</td>\n",
       "    </tr>\n",
       "    <tr>\n",
       "      <th>2</th>\n",
       "      <td>AITA for asking a guest to not crochet at my b...</td>\n",
       "      <td>I'm (28F) getting married this year (yay!) and...</td>\n",
       "      <td>Not the A-hole</td>\n",
       "      <td>[So... do we maybe see why brother's GF would ...</td>\n",
       "      <td>775</td>\n",
       "      <td>8091</td>\n",
       "      <td>0.97</td>\n",
       "      <td>/r/AmItheAsshole/comments/1j0isvh/aita_for_ask...</td>\n",
       "      <td>1.740778e+09</td>\n",
       "      <td>1740780160.0</td>\n",
       "    </tr>\n",
       "    <tr>\n",
       "      <th>3</th>\n",
       "      <td>AITA for not comforting my bf after he didn’t ...</td>\n",
       "      <td>Earlier in the day, I told my bf that I was go...</td>\n",
       "      <td>Not the A-hole</td>\n",
       "      <td>[It's not your job to help him regulate his em...</td>\n",
       "      <td>818</td>\n",
       "      <td>7515</td>\n",
       "      <td>0.96</td>\n",
       "      <td>/r/AmItheAsshole/comments/1j284st/aita_for_not...</td>\n",
       "      <td>1.740968e+09</td>\n",
       "      <td>False</td>\n",
       "    </tr>\n",
       "    <tr>\n",
       "      <th>4</th>\n",
       "      <td>Update: AITA because I don't want my half brot...</td>\n",
       "      <td>this is an update to my [original post](https:...</td>\n",
       "      <td>UPDATE</td>\n",
       "      <td>[Definitely time for me to leave the internet ...</td>\n",
       "      <td>118</td>\n",
       "      <td>7296</td>\n",
       "      <td>0.99</td>\n",
       "      <td>/r/AmItheAsshole/comments/1j12uam/update_aita_...</td>\n",
       "      <td>1.740845e+09</td>\n",
       "      <td>False</td>\n",
       "    </tr>\n",
       "  </tbody>\n",
       "</table>\n",
       "</div>"
      ],
      "text/plain": [
       "                                               title  \\\n",
       "0    AITA for asking my GF if she can take a shower?   \n",
       "1  AITA for insulting my husband for what he said...   \n",
       "2  AITA for asking a guest to not crochet at my b...   \n",
       "3  AITA for not comforting my bf after he didn’t ...   \n",
       "4  Update: AITA because I don't want my half brot...   \n",
       "\n",
       "                                                body                  verdict  \\\n",
       "0  My GF really only showers once a week, twice i...  Not the A-hole POO Mode   \n",
       "1  My daughter (17f) recently started dating this...           Not the A-hole   \n",
       "2  I'm (28F) getting married this year (yay!) and...           Not the A-hole   \n",
       "3  Earlier in the day, I told my bf that I was go...           Not the A-hole   \n",
       "4  this is an update to my [original post](https:...                   UPDATE   \n",
       "\n",
       "                                            comments  num_comments  upvotes  \\\n",
       "0  [\"I'm not even sure if I started to resent her...          4253    15872   \n",
       "1  [So he would rather your daughter be married t...          1481    10857   \n",
       "2  [So... do we maybe see why brother's GF would ...           775     8091   \n",
       "3  [It's not your job to help him regulate his em...           818     7515   \n",
       "4  [Definitely time for me to leave the internet ...           118     7296   \n",
       "\n",
       "   upvote_ratio                                                url  \\\n",
       "0          0.96  /r/AmItheAsshole/comments/1iy5n9x/aita_for_ask...   \n",
       "1          0.96  /r/AmItheAsshole/comments/1iz4o6f/aita_for_ins...   \n",
       "2          0.97  /r/AmItheAsshole/comments/1j0isvh/aita_for_ask...   \n",
       "3          0.96  /r/AmItheAsshole/comments/1j284st/aita_for_not...   \n",
       "4          0.99  /r/AmItheAsshole/comments/1j12uam/update_aita_...   \n",
       "\n",
       "        created        edited  \n",
       "0  1.740517e+09  1740790583.0  \n",
       "1  1.740621e+09         False  \n",
       "2  1.740778e+09  1740780160.0  \n",
       "3  1.740968e+09         False  \n",
       "4  1.740845e+09         False  "
      ]
     },
     "execution_count": 9,
     "metadata": {},
     "output_type": "execute_result"
    }
   ],
   "source": [
    "data.head()"
   ]
  },
  {
   "cell_type": "code",
   "execution_count": 10,
   "metadata": {},
   "outputs": [],
   "source": [
    "data = data.iloc[1:] # quitar el primer post que son las reglas del subreddit"
   ]
  },
  {
   "cell_type": "code",
   "execution_count": 11,
   "metadata": {},
   "outputs": [
    {
     "data": {
      "text/html": [
       "<div>\n",
       "<style scoped>\n",
       "    .dataframe tbody tr th:only-of-type {\n",
       "        vertical-align: middle;\n",
       "    }\n",
       "\n",
       "    .dataframe tbody tr th {\n",
       "        vertical-align: top;\n",
       "    }\n",
       "\n",
       "    .dataframe thead th {\n",
       "        text-align: right;\n",
       "    }\n",
       "</style>\n",
       "<table border=\"1\" class=\"dataframe\">\n",
       "  <thead>\n",
       "    <tr style=\"text-align: right;\">\n",
       "      <th></th>\n",
       "      <th>title</th>\n",
       "      <th>body</th>\n",
       "      <th>verdict</th>\n",
       "      <th>comments</th>\n",
       "      <th>num_comments</th>\n",
       "      <th>upvotes</th>\n",
       "      <th>upvote_ratio</th>\n",
       "      <th>url</th>\n",
       "      <th>created</th>\n",
       "      <th>edited</th>\n",
       "      <th>YTA</th>\n",
       "      <th>YWBTA</th>\n",
       "      <th>NTA</th>\n",
       "      <th>YWNBTA</th>\n",
       "      <th>ESH</th>\n",
       "      <th>NAH</th>\n",
       "      <th>INFO</th>\n",
       "    </tr>\n",
       "  </thead>\n",
       "  <tbody>\n",
       "    <tr>\n",
       "      <th>1</th>\n",
       "      <td>AITA for insulting my husband for what he said...</td>\n",
       "      <td>My daughter (17f) recently started dating this...</td>\n",
       "      <td>Not the A-hole</td>\n",
       "      <td>[So he would rather your daughter be married t...</td>\n",
       "      <td>1481</td>\n",
       "      <td>10857</td>\n",
       "      <td>0.96</td>\n",
       "      <td>/r/AmItheAsshole/comments/1iz4o6f/aita_for_ins...</td>\n",
       "      <td>1.740621e+09</td>\n",
       "      <td>False</td>\n",
       "      <td>9</td>\n",
       "      <td>0</td>\n",
       "      <td>164</td>\n",
       "      <td>0</td>\n",
       "      <td>13</td>\n",
       "      <td>2</td>\n",
       "      <td>0</td>\n",
       "    </tr>\n",
       "    <tr>\n",
       "      <th>2</th>\n",
       "      <td>AITA for asking a guest to not crochet at my b...</td>\n",
       "      <td>I'm (28F) getting married this year (yay!) and...</td>\n",
       "      <td>Not the A-hole</td>\n",
       "      <td>[So... do we maybe see why brother's GF would ...</td>\n",
       "      <td>775</td>\n",
       "      <td>8091</td>\n",
       "      <td>0.97</td>\n",
       "      <td>/r/AmItheAsshole/comments/1j0isvh/aita_for_ask...</td>\n",
       "      <td>1.740778e+09</td>\n",
       "      <td>1740780160.0</td>\n",
       "      <td>2</td>\n",
       "      <td>0</td>\n",
       "      <td>161</td>\n",
       "      <td>0</td>\n",
       "      <td>0</td>\n",
       "      <td>3</td>\n",
       "      <td>3</td>\n",
       "    </tr>\n",
       "    <tr>\n",
       "      <th>3</th>\n",
       "      <td>AITA for not comforting my bf after he didn’t ...</td>\n",
       "      <td>Earlier in the day, I told my bf that I was go...</td>\n",
       "      <td>Not the A-hole</td>\n",
       "      <td>[It's not your job to help him regulate his em...</td>\n",
       "      <td>818</td>\n",
       "      <td>7515</td>\n",
       "      <td>0.96</td>\n",
       "      <td>/r/AmItheAsshole/comments/1j284st/aita_for_not...</td>\n",
       "      <td>1.740968e+09</td>\n",
       "      <td>False</td>\n",
       "      <td>12</td>\n",
       "      <td>0</td>\n",
       "      <td>143</td>\n",
       "      <td>0</td>\n",
       "      <td>21</td>\n",
       "      <td>5</td>\n",
       "      <td>2</td>\n",
       "    </tr>\n",
       "    <tr>\n",
       "      <th>4</th>\n",
       "      <td>Update: AITA because I don't want my half brot...</td>\n",
       "      <td>this is an update to my [original post](https:...</td>\n",
       "      <td>UPDATE</td>\n",
       "      <td>[Definitely time for me to leave the internet ...</td>\n",
       "      <td>118</td>\n",
       "      <td>7296</td>\n",
       "      <td>0.99</td>\n",
       "      <td>/r/AmItheAsshole/comments/1j12uam/update_aita_...</td>\n",
       "      <td>1.740845e+09</td>\n",
       "      <td>False</td>\n",
       "      <td>1</td>\n",
       "      <td>0</td>\n",
       "      <td>2</td>\n",
       "      <td>0</td>\n",
       "      <td>0</td>\n",
       "      <td>0</td>\n",
       "      <td>0</td>\n",
       "    </tr>\n",
       "    <tr>\n",
       "      <th>5</th>\n",
       "      <td>WIBTA if I send an email to the bday girl’s mo...</td>\n",
       "      <td>My (43F) daughter Annie 9F) was invited to a p...</td>\n",
       "      <td>Not the A-hole</td>\n",
       "      <td>[NTA, but: You should have asked, why there is...</td>\n",
       "      <td>645</td>\n",
       "      <td>7343</td>\n",
       "      <td>0.96</td>\n",
       "      <td>/r/AmItheAsshole/comments/1j2hp1b/wibta_if_i_s...</td>\n",
       "      <td>1.741005e+09</td>\n",
       "      <td>1741020672.0</td>\n",
       "      <td>33</td>\n",
       "      <td>38</td>\n",
       "      <td>41</td>\n",
       "      <td>1</td>\n",
       "      <td>15</td>\n",
       "      <td>7</td>\n",
       "      <td>6</td>\n",
       "    </tr>\n",
       "  </tbody>\n",
       "</table>\n",
       "</div>"
      ],
      "text/plain": [
       "                                               title  \\\n",
       "1  AITA for insulting my husband for what he said...   \n",
       "2  AITA for asking a guest to not crochet at my b...   \n",
       "3  AITA for not comforting my bf after he didn’t ...   \n",
       "4  Update: AITA because I don't want my half brot...   \n",
       "5  WIBTA if I send an email to the bday girl’s mo...   \n",
       "\n",
       "                                                body         verdict  \\\n",
       "1  My daughter (17f) recently started dating this...  Not the A-hole   \n",
       "2  I'm (28F) getting married this year (yay!) and...  Not the A-hole   \n",
       "3  Earlier in the day, I told my bf that I was go...  Not the A-hole   \n",
       "4  this is an update to my [original post](https:...          UPDATE   \n",
       "5  My (43F) daughter Annie 9F) was invited to a p...  Not the A-hole   \n",
       "\n",
       "                                            comments  num_comments  upvotes  \\\n",
       "1  [So he would rather your daughter be married t...          1481    10857   \n",
       "2  [So... do we maybe see why brother's GF would ...           775     8091   \n",
       "3  [It's not your job to help him regulate his em...           818     7515   \n",
       "4  [Definitely time for me to leave the internet ...           118     7296   \n",
       "5  [NTA, but: You should have asked, why there is...           645     7343   \n",
       "\n",
       "   upvote_ratio                                                url  \\\n",
       "1          0.96  /r/AmItheAsshole/comments/1iz4o6f/aita_for_ins...   \n",
       "2          0.97  /r/AmItheAsshole/comments/1j0isvh/aita_for_ask...   \n",
       "3          0.96  /r/AmItheAsshole/comments/1j284st/aita_for_not...   \n",
       "4          0.99  /r/AmItheAsshole/comments/1j12uam/update_aita_...   \n",
       "5          0.96  /r/AmItheAsshole/comments/1j2hp1b/wibta_if_i_s...   \n",
       "\n",
       "        created        edited  YTA  YWBTA  NTA  YWNBTA  ESH  NAH  INFO  \n",
       "1  1.740621e+09         False    9      0  164       0   13    2     0  \n",
       "2  1.740778e+09  1740780160.0    2      0  161       0    0    3     3  \n",
       "3  1.740968e+09         False   12      0  143       0   21    5     2  \n",
       "4  1.740845e+09         False    1      0    2       0    0    0     0  \n",
       "5  1.741005e+09  1741020672.0   33     38   41       1   15    7     6  "
      ]
     },
     "execution_count": 11,
     "metadata": {},
     "output_type": "execute_result"
    }
   ],
   "source": [
    "# aqui creamos las columnas de los votos que tiene cada veredicto\n",
    "def count_occurrences(comments, keyword):\n",
    "    keyword = keyword.lower() \n",
    "    return sum(keyword in comment.lower() for comment in comments)\n",
    "\n",
    "verdicts = ['YTA', 'YWBTA', 'NTA', 'YWNBTA', 'ESH', 'NAH', 'INFO']\n",
    "\n",
    "for verdict in verdicts:\n",
    "    data[verdict] = data['comments'].apply(lambda x: count_occurrences(x, verdict))\n",
    "\n",
    "data.head()\n"
   ]
  },
  {
   "cell_type": "code",
   "execution_count": 12,
   "metadata": {},
   "outputs": [],
   "source": [
    "data['created'] = data['created'].apply(lambda x: dt.datetime.fromtimestamp(x))\n",
    "data['edited'] = data['edited'].apply(lambda x: dt.datetime.fromtimestamp(x) if x > 0 else None)\n",
    "\n"
   ]
  },
  {
   "cell_type": "code",
   "execution_count": 13,
   "metadata": {},
   "outputs": [
    {
     "data": {
      "application/vnd.jupyter.widget-view+json": {
       "model_id": "98dbff38c6e64c618f96b85ab41a7e3f",
       "version_major": 2,
       "version_minor": 0
      },
      "text/plain": [
       "Summarize dataset:   0%|          | 0/5 [00:00<?, ?it/s]"
      ]
     },
     "metadata": {},
     "output_type": "display_data"
    },
    {
     "data": {
      "application/vnd.jupyter.widget-view+json": {
       "model_id": "8707538c688843569af9c8e45bc8a578",
       "version_major": 2,
       "version_minor": 0
      },
      "text/plain": [
       "Generate report structure:   0%|          | 0/1 [00:00<?, ?it/s]"
      ]
     },
     "metadata": {},
     "output_type": "display_data"
    },
    {
     "data": {
      "application/vnd.jupyter.widget-view+json": {
       "model_id": "0cc9463ed7014a9fb88d3602f13dce19",
       "version_major": 2,
       "version_minor": 0
      },
      "text/plain": [
       "Render HTML:   0%|          | 0/1 [00:00<?, ?it/s]"
      ]
     },
     "metadata": {},
     "output_type": "display_data"
    },
    {
     "data": {
      "application/vnd.jupyter.widget-view+json": {
       "model_id": "c2386eba5a60405b808cab31b1b7a9c7",
       "version_major": 2,
       "version_minor": 0
      },
      "text/plain": [
       "Export report to file:   0%|          | 0/1 [00:00<?, ?it/s]"
      ]
     },
     "metadata": {},
     "output_type": "display_data"
    }
   ],
   "source": [
    "from ydata_profiling import ProfileReport\n",
    "\n",
    "profile = ProfileReport(data, title=\"AITA data report\")\n",
    "profile.to_file(\"aita-report.html\") "
   ]
  },
  {
   "cell_type": "code",
   "execution_count": 14,
   "metadata": {},
   "outputs": [],
   "source": [
    "processed_data_filename = \"aita-500-top-this-week-processed.csv\"\n",
    "data.to_csv(processed_data_filename)"
   ]
  }
 ],
 "metadata": {
  "kernelspec": {
   "display_name": "venv",
   "language": "python",
   "name": "python3"
  },
  "language_info": {
   "codemirror_mode": {
    "name": "ipython",
    "version": 3
   },
   "file_extension": ".py",
   "mimetype": "text/x-python",
   "name": "python",
   "nbconvert_exporter": "python",
   "pygments_lexer": "ipython3",
   "version": "3.9.18"
  }
 },
 "nbformat": 4,
 "nbformat_minor": 2
}
