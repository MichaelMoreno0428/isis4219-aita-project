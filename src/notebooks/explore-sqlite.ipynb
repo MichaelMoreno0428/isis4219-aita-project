{
 "cells": [
  {
   "cell_type": "markdown",
   "id": "0b40e21e",
   "metadata": {},
   "source": [
    "Páginas:\n",
    "\n",
    "\n",
    "- https://jian.sh/aita/\n",
    "- https://github.com/JianLoong/reddit-store\n",
    "- https://www.kaggle.com/datasets/jianloongliew/reddit/data"
   ]
  },
  {
   "cell_type": "code",
   "execution_count": 13,
   "id": "ee5700cf",
   "metadata": {},
   "outputs": [],
   "source": [
    "import sqlite3\n",
    "import pandas as pd\n",
    "from collections import Counter\n",
    "from sklearn.model_selection import train_test_split\n",
    "from sklearn.feature_extraction.text import TfidfVectorizer\n",
    "from sklearn.naive_bayes import MultinomialNB\n",
    "from sklearn.metrics import classification_report\n"
   ]
  },
  {
   "cell_type": "code",
   "execution_count": 14,
   "id": "0e7d0269",
   "metadata": {},
   "outputs": [
    {
     "name": "stdout",
     "output_type": "stream",
     "text": [
      "[('submission',), ('comment',)]\n"
     ]
    }
   ],
   "source": [
    "import sqlite3\n",
    "import pandas as pd\n",
    "\n",
    "conn = sqlite3.connect(\"data/AmITheAsshole.sqlite\")\n",
    "cursor = conn.cursor()\n",
    "\n",
    "cursor.execute(\"SELECT name FROM sqlite_master WHERE type='table';\")\n",
    "print(cursor.fetchall())\n"
   ]
  },
  {
   "cell_type": "code",
   "execution_count": 15,
   "id": "3714074d",
   "metadata": {},
   "outputs": [
    {
     "name": "stdout",
     "output_type": "stream",
     "text": [
      "Submission table:\n",
      "[(0, 'id', 'INTEGER', 1, None, 1), (1, 'submission_id', 'VARCHAR(255)', 1, None, 0), (2, 'title', 'TEXT', 1, None, 0), (3, 'selftext', 'TEXT', 1, None, 0), (4, 'created_utc', 'DATE', 1, None, 0), (5, 'permalink', 'TEXT', 1, None, 0), (6, 'score', 'INTEGER', 1, None, 0)]\n",
      "Comment table:\n",
      "[(0, 'id', 'INTEGER', 1, None, 1), (1, 'submission_id', 'INTEGER', 1, None, 0), (2, 'message', 'TEXT', 1, None, 0), (3, 'comment_id', 'VARCHAR(255)', 1, None, 0), (4, 'parent_id', 'VARCHAR(255)', 1, None, 0), (5, 'created_utc', 'DATE', 1, None, 0), (6, 'score', 'INTEGER', 1, None, 0)]\n"
     ]
    }
   ],
   "source": [
    "cursor.execute(\"PRAGMA table_info(submission);\")\n",
    "print(\"Submission table:\")\n",
    "print(cursor.fetchall())\n",
    "\n",
    "cursor.execute(\"PRAGMA table_info(comment);\")\n",
    "print(\"Comment table:\")\n",
    "print(cursor.fetchall())\n"
   ]
  },
  {
   "cell_type": "code",
   "execution_count": 16,
   "id": "1886c995",
   "metadata": {},
   "outputs": [
    {
     "name": "stdout",
     "output_type": "stream",
     "text": [
      "   id submission_id                                              title  \\\n",
      "0   1        xt1ksm            AITA Monthly Open Forum Spooktober 2022   \n",
      "1   2        yiplwk  AITA for asking my friend to move a picture of...   \n",
      "2   3        yiv572  AITA for asking my husband to stay with me whi...   \n",
      "3   4        yimgaf  AITA for telling my SIL to stop talking about ...   \n",
      "4   5        yin7pf  AITA for wanting to meet my \"daughter\" after g...   \n",
      "\n",
      "                                            selftext  created_utc  \\\n",
      "0  #Keep things civil. Rules still apply.\\n\\n##Th...   1664646465   \n",
      "1  \\n\\nMe (M32) and my wife, Dahlia (F28) lost ou...   1667251988   \n",
      "2  Throwaway my family knows my account. I'll get...   1667266450   \n",
      "3  My (37M) wife (37F) is pregnant with our first...   1667245059   \n",
      "4  Long story short: in my (40f) twenties I had a...   1667246573   \n",
      "\n",
      "                                           permalink  score  \n",
      "0  /r/AmItheAsshole/comments/xt1ksm/aita_monthly_...    592  \n",
      "1  /r/AmItheAsshole/comments/yiplwk/aita_for_aski...  16582  \n",
      "2  /r/AmItheAsshole/comments/yiv572/aita_for_aski...   4079  \n",
      "3  /r/AmItheAsshole/comments/yimgaf/aita_for_tell...   9728  \n",
      "4  /r/AmItheAsshole/comments/yin7pf/aita_for_want...   6889  \n"
     ]
    }
   ],
   "source": [
    "df_sub = pd.read_sql_query(\"SELECT * FROM submission LIMIT 5;\", conn)\n",
    "print(df_sub)\n"
   ]
  },
  {
   "cell_type": "code",
   "execution_count": 17,
   "id": "31885849",
   "metadata": {},
   "outputs": [],
   "source": [
    "df_submissions = pd.read_sql_query(\"SELECT submission_id, title, selftext FROM submission;\", conn)\n",
    "df_comments = pd.read_sql_query(\"SELECT submission_id, message FROM comment;\", conn)"
   ]
  },
  {
   "cell_type": "code",
   "execution_count": 23,
   "id": "b50ec6e3",
   "metadata": {},
   "outputs": [
    {
     "name": "stdout",
     "output_type": "stream",
     "text": [
      "1950942\n",
      "30994\n"
     ]
    }
   ],
   "source": [
    "print(len(df_comments))\n",
    "print(len(df_submissions))"
   ]
  },
  {
   "cell_type": "code",
   "execution_count": 18,
   "id": "8cd70d95",
   "metadata": {},
   "outputs": [],
   "source": [
    "verdict_keywords = ['NTA', 'YTA', 'ESH', 'NAH', 'INFO']\n",
    "\n",
    "def extract_verdict(msg):\n",
    "    msg = msg.upper()\n",
    "    for word in verdict_keywords:\n",
    "        if word in msg.split():\n",
    "            return word\n",
    "    return None\n",
    "\n",
    "df_comments['label'] = df_comments['message'].apply(extract_verdict)\n",
    "df_comments = df_comments[df_comments['label'].notnull()]\n"
   ]
  },
  {
   "cell_type": "code",
   "execution_count": null,
   "id": "99b159d4",
   "metadata": {},
   "outputs": [],
   "source": [
    "submission_verdicts = df_comments.groupby('submission_id')['label'].apply(lambda x: Counter(x).most_common(1)[0][0]).reset_index()\n",
    "\n",
    "df_merged = df_submissions.merge(submission_verdicts, on='submission_id')\n",
    "df_merged['text'] = df_merged['title'] + ' ' + df_merged['selftext']\n"
   ]
  },
  {
   "cell_type": "code",
   "execution_count": 25,
   "id": "4b8cd227",
   "metadata": {},
   "outputs": [
    {
     "data": {
      "text/html": [
       "<div>\n",
       "<style scoped>\n",
       "    .dataframe tbody tr th:only-of-type {\n",
       "        vertical-align: middle;\n",
       "    }\n",
       "\n",
       "    .dataframe tbody tr th {\n",
       "        vertical-align: top;\n",
       "    }\n",
       "\n",
       "    .dataframe thead th {\n",
       "        text-align: right;\n",
       "    }\n",
       "</style>\n",
       "<table border=\"1\" class=\"dataframe\">\n",
       "  <thead>\n",
       "    <tr style=\"text-align: right;\">\n",
       "      <th></th>\n",
       "      <th>submission_id</th>\n",
       "      <th>title</th>\n",
       "      <th>selftext</th>\n",
       "      <th>label</th>\n",
       "      <th>text</th>\n",
       "    </tr>\n",
       "  </thead>\n",
       "  <tbody>\n",
       "    <tr>\n",
       "      <th>0</th>\n",
       "      <td>xt1ksm</td>\n",
       "      <td>AITA Monthly Open Forum Spooktober 2022</td>\n",
       "      <td>#Keep things civil. Rules still apply.\\n\\n##Th...</td>\n",
       "      <td>NTA</td>\n",
       "      <td>AITA Monthly Open Forum Spooktober 2022 #Keep ...</td>\n",
       "    </tr>\n",
       "    <tr>\n",
       "      <th>1</th>\n",
       "      <td>yiplwk</td>\n",
       "      <td>AITA for asking my friend to move a picture of...</td>\n",
       "      <td>\\n\\nMe (M32) and my wife, Dahlia (F28) lost ou...</td>\n",
       "      <td>YTA</td>\n",
       "      <td>AITA for asking my friend to move a picture of...</td>\n",
       "    </tr>\n",
       "    <tr>\n",
       "      <th>2</th>\n",
       "      <td>yiv572</td>\n",
       "      <td>AITA for asking my husband to stay with me whi...</td>\n",
       "      <td>Throwaway my family knows my account. I'll get...</td>\n",
       "      <td>YTA</td>\n",
       "      <td>AITA for asking my husband to stay with me whi...</td>\n",
       "    </tr>\n",
       "    <tr>\n",
       "      <th>3</th>\n",
       "      <td>yimgaf</td>\n",
       "      <td>AITA for telling my SIL to stop talking about ...</td>\n",
       "      <td>My (37M) wife (37F) is pregnant with our first...</td>\n",
       "      <td>NTA</td>\n",
       "      <td>AITA for telling my SIL to stop talking about ...</td>\n",
       "    </tr>\n",
       "    <tr>\n",
       "      <th>4</th>\n",
       "      <td>yin7pf</td>\n",
       "      <td>AITA for wanting to meet my \"daughter\" after g...</td>\n",
       "      <td>Long story short: in my (40f) twenties I had a...</td>\n",
       "      <td>YTA</td>\n",
       "      <td>AITA for wanting to meet my \"daughter\" after g...</td>\n",
       "    </tr>\n",
       "    <tr>\n",
       "      <th>...</th>\n",
       "      <td>...</td>\n",
       "      <td>...</td>\n",
       "      <td>...</td>\n",
       "      <td>...</td>\n",
       "      <td>...</td>\n",
       "    </tr>\n",
       "    <tr>\n",
       "      <th>30747</th>\n",
       "      <td>17vg85i</td>\n",
       "      <td>AITA for saying to my wife that I’m the one wh...</td>\n",
       "      <td>My (43M) niece (14F) is being raised by my wif...</td>\n",
       "      <td>YTA</td>\n",
       "      <td>AITA for saying to my wife that I’m the one wh...</td>\n",
       "    </tr>\n",
       "    <tr>\n",
       "      <th>30748</th>\n",
       "      <td>17v5nna</td>\n",
       "      <td>AITA for snapping at BIL for accusing me of st...</td>\n",
       "      <td>I (48M) was recently at my sister’s (33F) hous...</td>\n",
       "      <td>NTA</td>\n",
       "      <td>AITA for snapping at BIL for accusing me of st...</td>\n",
       "    </tr>\n",
       "    <tr>\n",
       "      <th>30749</th>\n",
       "      <td>17v959p</td>\n",
       "      <td>AITA for planning a spotlight dance with just ...</td>\n",
       "      <td>I (25M) will be getting married to my amazing ...</td>\n",
       "      <td>NTA</td>\n",
       "      <td>AITA for planning a spotlight dance with just ...</td>\n",
       "    </tr>\n",
       "    <tr>\n",
       "      <th>30750</th>\n",
       "      <td>17ventx</td>\n",
       "      <td>AITA for telling my parents that my siblings a...</td>\n",
       "      <td>I’m catching flak from this from all sides, bu...</td>\n",
       "      <td>NTA</td>\n",
       "      <td>AITA for telling my parents that my siblings a...</td>\n",
       "    </tr>\n",
       "    <tr>\n",
       "      <th>30751</th>\n",
       "      <td>17vcoqv</td>\n",
       "      <td>AITAH for wanting to be on deed of girlfriends...</td>\n",
       "      <td>AITAH for wanting to be on the deed of girlfri...</td>\n",
       "      <td>NAH</td>\n",
       "      <td>AITAH for wanting to be on deed of girlfriends...</td>\n",
       "    </tr>\n",
       "  </tbody>\n",
       "</table>\n",
       "<p>30752 rows × 5 columns</p>\n",
       "</div>"
      ],
      "text/plain": [
       "      submission_id                                              title  \\\n",
       "0            xt1ksm            AITA Monthly Open Forum Spooktober 2022   \n",
       "1            yiplwk  AITA for asking my friend to move a picture of...   \n",
       "2            yiv572  AITA for asking my husband to stay with me whi...   \n",
       "3            yimgaf  AITA for telling my SIL to stop talking about ...   \n",
       "4            yin7pf  AITA for wanting to meet my \"daughter\" after g...   \n",
       "...             ...                                                ...   \n",
       "30747       17vg85i  AITA for saying to my wife that I’m the one wh...   \n",
       "30748       17v5nna  AITA for snapping at BIL for accusing me of st...   \n",
       "30749       17v959p  AITA for planning a spotlight dance with just ...   \n",
       "30750       17ventx  AITA for telling my parents that my siblings a...   \n",
       "30751       17vcoqv  AITAH for wanting to be on deed of girlfriends...   \n",
       "\n",
       "                                                selftext label  \\\n",
       "0      #Keep things civil. Rules still apply.\\n\\n##Th...   NTA   \n",
       "1      \\n\\nMe (M32) and my wife, Dahlia (F28) lost ou...   YTA   \n",
       "2      Throwaway my family knows my account. I'll get...   YTA   \n",
       "3      My (37M) wife (37F) is pregnant with our first...   NTA   \n",
       "4      Long story short: in my (40f) twenties I had a...   YTA   \n",
       "...                                                  ...   ...   \n",
       "30747  My (43M) niece (14F) is being raised by my wif...   YTA   \n",
       "30748  I (48M) was recently at my sister’s (33F) hous...   NTA   \n",
       "30749  I (25M) will be getting married to my amazing ...   NTA   \n",
       "30750  I’m catching flak from this from all sides, bu...   NTA   \n",
       "30751  AITAH for wanting to be on the deed of girlfri...   NAH   \n",
       "\n",
       "                                                    text  \n",
       "0      AITA Monthly Open Forum Spooktober 2022 #Keep ...  \n",
       "1      AITA for asking my friend to move a picture of...  \n",
       "2      AITA for asking my husband to stay with me whi...  \n",
       "3      AITA for telling my SIL to stop talking about ...  \n",
       "4      AITA for wanting to meet my \"daughter\" after g...  \n",
       "...                                                  ...  \n",
       "30747  AITA for saying to my wife that I’m the one wh...  \n",
       "30748  AITA for snapping at BIL for accusing me of st...  \n",
       "30749  AITA for planning a spotlight dance with just ...  \n",
       "30750  AITA for telling my parents that my siblings a...  \n",
       "30751  AITAH for wanting to be on deed of girlfriends...  \n",
       "\n",
       "[30752 rows x 5 columns]"
      ]
     },
     "execution_count": 25,
     "metadata": {},
     "output_type": "execute_result"
    }
   ],
   "source": [
    "df_merged"
   ]
  },
  {
   "cell_type": "code",
   "execution_count": null,
   "id": "b7bab56b",
   "metadata": {},
   "outputs": [
    {
     "name": "stdout",
     "output_type": "stream",
     "text": [
      "label\n",
      "NTA     5907\n",
      "YTA     5449\n",
      "ESH      241\n",
      "NAH      160\n",
      "INFO      57\n",
      "Name: count, dtype: int64\n"
     ]
    }
   ],
   "source": [
    "from sklearn.utils import resample\n",
    "\n",
    "df_majority = df_merged[df_merged['label'] == 'NTA']\n",
    "df_minority = df_merged[df_merged['label'] != 'NTA']\n",
    "\n",
    "df_majority_downsampled = resample(df_majority, \n",
    "                                   replace=False,    \n",
    "                                   n_samples=len(df_minority),\n",
    "                                   random_state=42)  \n",
    "\n",
    "df_balanced = pd.concat([df_majority_downsampled, df_minority])\n",
    "df_balanced = df_balanced.sample(frac=1, random_state=42).reset_index(drop=True)\n",
    "\n",
    "print(df_balanced['label'].value_counts())"
   ]
  },
  {
   "cell_type": "code",
   "execution_count": 27,
   "id": "52a8cb65",
   "metadata": {},
   "outputs": [],
   "source": [
    "X = df_balanced['text']\n",
    "y = df_balanced['label']\n",
    "\n",
    "X_train, X_test, y_train, y_test = train_test_split(X, y, test_size=0.2, random_state=42)\n"
   ]
  },
  {
   "cell_type": "code",
   "execution_count": 28,
   "id": "b7f9898d",
   "metadata": {},
   "outputs": [],
   "source": [
    "vectorizer = TfidfVectorizer(stop_words='english', max_features=20000)\n",
    "X_train_vec = vectorizer.fit_transform(X_train)\n",
    "X_test_vec = vectorizer.transform(X_test)\n"
   ]
  },
  {
   "cell_type": "code",
   "execution_count": null,
   "id": "0ad8aee2",
   "metadata": {},
   "outputs": [
    {
     "name": "stdout",
     "output_type": "stream",
     "text": [
      "              precision    recall  f1-score   support\n",
      "\n",
      "         ESH       0.00      0.00      0.00        53\n",
      "        INFO       0.00      0.00      0.00         9\n",
      "         NAH       0.00      0.00      0.00        34\n",
      "         NTA       0.53      0.87      0.66      1162\n",
      "         YTA       0.63      0.27      0.37      1105\n",
      "\n",
      "    accuracy                           0.55      2363\n",
      "   macro avg       0.23      0.23      0.21      2363\n",
      "weighted avg       0.56      0.55      0.50      2363\n",
      "\n"
     ]
    },
    {
     "name": "stderr",
     "output_type": "stream",
     "text": [
      "/opt/homebrew/Caskroom/miniconda/base/envs/venv/lib/python3.9/site-packages/sklearn/metrics/_classification.py:1565: UndefinedMetricWarning: Precision is ill-defined and being set to 0.0 in labels with no predicted samples. Use `zero_division` parameter to control this behavior.\n",
      "  _warn_prf(average, modifier, f\"{metric.capitalize()} is\", len(result))\n",
      "/opt/homebrew/Caskroom/miniconda/base/envs/venv/lib/python3.9/site-packages/sklearn/metrics/_classification.py:1565: UndefinedMetricWarning: Precision is ill-defined and being set to 0.0 in labels with no predicted samples. Use `zero_division` parameter to control this behavior.\n",
      "  _warn_prf(average, modifier, f\"{metric.capitalize()} is\", len(result))\n",
      "/opt/homebrew/Caskroom/miniconda/base/envs/venv/lib/python3.9/site-packages/sklearn/metrics/_classification.py:1565: UndefinedMetricWarning: Precision is ill-defined and being set to 0.0 in labels with no predicted samples. Use `zero_division` parameter to control this behavior.\n",
      "  _warn_prf(average, modifier, f\"{metric.capitalize()} is\", len(result))\n"
     ]
    }
   ],
   "source": [
    "model = MultinomialNB()\n",
    "model.fit(X_train_vec, y_train)\n",
    "\n",
    "y_pred = model.predict(X_test_vec)\n",
    "print(classification_report(y_test, y_pred))\n"
   ]
  },
  {
   "cell_type": "code",
   "execution_count": 30,
   "id": "40dc9e78",
   "metadata": {},
   "outputs": [
    {
     "data": {
      "image/png": "[encoded data removed]",
      "text/plain": [
       "<Figure size 800x600 with 2 Axes>"
      ]
     },
     "metadata": {},
     "output_type": "display_data"
    }
   ],
   "source": [
    "from sklearn.metrics import confusion_matrix\n",
    "import seaborn as sns\n",
    "\n",
    "import matplotlib.pyplot as plt\n",
    "\n",
    "# Generate the confusion matrix\n",
    "cm = confusion_matrix(y_test, y_pred, labels=verdict_keywords)\n",
    "\n",
    "# Plot the confusion matrix\n",
    "plt.figure(figsize=(8, 6))\n",
    "sns.heatmap(cm, annot=True, fmt='d', xticklabels=verdict_keywords, yticklabels=verdict_keywords, cmap='Blues')\n",
    "plt.xlabel('Predicted')\n",
    "plt.ylabel('Actual')\n",
    "plt.title('Confusion Matrix')\n",
    "plt.show()"
   ]
  },
  {
   "cell_type": "code",
   "execution_count": null,
   "id": "620633e9",
   "metadata": {},
   "outputs": [],
   "source": []
  }
 ],
 "metadata": {
  "kernelspec": {
   "display_name": "venv",
   "language": "python",
   "name": "python3"
  },
  "language_info": {
   "codemirror_mode": {
    "name": "ipython",
    "version": 3
   },
   "file_extension": ".py",
   "mimetype": "text/x-python",
   "name": "python",
   "nbconvert_exporter": "python",
   "pygments_lexer": "ipython3",
   "version": "3.9.18"
  }
 },
 "nbformat": 4,
 "nbformat_minor": 5
}
