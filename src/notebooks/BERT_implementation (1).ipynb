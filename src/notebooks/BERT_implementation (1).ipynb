{
 "cells": [
  {
   "cell_type": "code",
   "execution_count": 3,
   "metadata": {
    "id": "BGclLYlw8jPe"
   },
   "outputs": [],
   "source": [
    "!pip install -q scikit-learn"
   ]
  },
  {
   "cell_type": "code",
   "execution_count": 4,
   "metadata": {
    "id": "sKd86A118fgg"
   },
   "outputs": [],
   "source": [
    "#Librerias\n",
    "import sqlite3\n",
    "import pandas as pd\n",
    "from collections import Counter\n",
    "from sklearn.model_selection import train_test_split\n",
    "from sklearn.feature_extraction.text import TfidfVectorizer\n",
    "from sklearn.naive_bayes import MultinomialNB\n",
    "from sklearn.metrics import classification_report"
   ]
  },
  {
   "cell_type": "code",
   "execution_count": 23,
   "metadata": {},
   "outputs": [
    {
     "name": "stdout",
     "output_type": "stream",
     "text": [
      "mkdir: no se puede crear el directorio «data»: El archivo ya existe\n",
      "Archive:  archive.zip\n",
      "  inflating: data/AmItheAsshole.sqlite  \n"
     ]
    }
   ],
   "source": [
    "!mkdir data\n",
    "!unzip archive.zip -d data/"
   ]
  },
  {
   "cell_type": "code",
   "execution_count": 24,
   "metadata": {
    "colab": {
     "base_uri": "https://localhost:8080/"
    },
    "id": "weGobxRK8lBf",
    "outputId": "d69acbe9-20e4-430d-9f9d-9db6672369ff"
   },
   "outputs": [
    {
     "name": "stdout",
     "output_type": "stream",
     "text": [
      "[('submission',), ('comment',)]\n"
     ]
    }
   ],
   "source": [
    "conn = sqlite3.connect(\"data/AmItheAsshole.sqlite\")\n",
    "cursor = conn.cursor()\n",
    "\n",
    "cursor.execute(\"SELECT name FROM sqlite_master WHERE type='table';\")\n",
    "print(cursor.fetchall())"
   ]
  },
  {
   "cell_type": "code",
   "execution_count": 25,
   "metadata": {
    "colab": {
     "base_uri": "https://localhost:8080/"
    },
    "id": "Lvusg6vH88TR",
    "outputId": "98558d17-d898-471e-a29a-8498699d3bf1"
   },
   "outputs": [
    {
     "name": "stdout",
     "output_type": "stream",
     "text": [
      "Submission table:\n",
      "[(0, 'id', 'INTEGER', 1, None, 1), (1, 'submission_id', 'VARCHAR(255)', 1, None, 0), (2, 'title', 'TEXT', 1, None, 0), (3, 'selftext', 'TEXT', 1, None, 0), (4, 'created_utc', 'DATE', 1, None, 0), (5, 'permalink', 'TEXT', 1, None, 0), (6, 'score', 'INTEGER', 1, None, 0)]\n",
      "Comment table:\n",
      "[(0, 'id', 'INTEGER', 1, None, 1), (1, 'submission_id', 'INTEGER', 1, None, 0), (2, 'message', 'TEXT', 1, None, 0), (3, 'comment_id', 'VARCHAR(255)', 1, None, 0), (4, 'parent_id', 'VARCHAR(255)', 1, None, 0), (5, 'created_utc', 'DATE', 1, None, 0), (6, 'score', 'INTEGER', 1, None, 0)]\n"
     ]
    }
   ],
   "source": [
    "cursor.execute(\"PRAGMA table_info(submission);\")\n",
    "print(\"Submission table:\")\n",
    "print(cursor.fetchall())\n",
    "\n",
    "cursor.execute(\"PRAGMA table_info(comment);\")\n",
    "print(\"Comment table:\")\n",
    "print(cursor.fetchall())"
   ]
  },
  {
   "cell_type": "code",
   "execution_count": 26,
   "metadata": {
    "colab": {
     "base_uri": "https://localhost:8080/"
    },
    "id": "bQi5BHWQLTe9",
    "outputId": "7f69403a-2f01-476f-8d44-0c072a638e93"
   },
   "outputs": [
    {
     "name": "stdout",
     "output_type": "stream",
     "text": [
      "   id submission_id                                            message  \\\n",
      "0   1        xt1ksm  Do people with two digits to their age really ...   \n",
      "1   2        xt1ksm  Lots of posts in the last 3-4 days about rando...   \n",
      "2   3        xt1ksm  Sometimes I think people are making up stories...   \n",
      "3   4        xt1ksm  Saw it on FB but it's hilarious how threads wi...   \n",
      "4   5        xt1ksm  The OP: My MIL can be a bit petty sometimes\\n\\...   \n",
      "\n",
      "  comment_id  parent_id  created_utc  score  \n",
      "0    irs5v1y  t3_xt1ksm   1665421334     59  \n",
      "1    isdxgsq  t3_xt1ksm   1665813660     55  \n",
      "2    iryatl4  t3_xt1ksm   1665529128     40  \n",
      "3    is3i5i9  t3_xt1ksm   1665622760     33  \n",
      "4    ituw9ym  t3_xt1ksm   1666793880     32  \n"
     ]
    }
   ],
   "source": [
    "df_sub = pd.read_sql_query(\"SELECT * FROM comment LIMIT 5;\", conn)\n",
    "print(df_sub)"
   ]
  },
  {
   "cell_type": "code",
   "execution_count": 28,
   "metadata": {
    "id": "eRHNjlW1FD3b"
   },
   "outputs": [],
   "source": [
    "df_submissions = pd.read_sql_query(\"SELECT submission_id, title, selftext FROM submission;\", conn)\n",
    "df_comments = pd.read_sql_query(\"SELECT submission_id, message FROM comment;\", conn)"
   ]
  },
  {
   "cell_type": "code",
   "execution_count": 29,
   "metadata": {
    "colab": {
     "base_uri": "https://localhost:8080/"
    },
    "id": "gw_zV70SL6Fk",
    "outputId": "8cc37973-02ae-44ee-9708-ab753e237302"
   },
   "outputs": [
    {
     "name": "stdout",
     "output_type": "stream",
     "text": [
      "9101374\n",
      "30994\n"
     ]
    }
   ],
   "source": [
    "print(len(df_comments))\n",
    "print(len(df_submissions))"
   ]
  },
  {
   "cell_type": "code",
   "execution_count": 30,
   "metadata": {
    "id": "jUig_IpnMEUg"
   },
   "outputs": [],
   "source": [
    "import re\n",
    "\n",
    "verdict_keywords = ['NTA', 'YTA', 'ESH', 'NAH', 'INFO']\n",
    "verdict_pattern = re.compile(r'\\b(' + '|'.join(verdict_keywords) + r')\\b', re.IGNORECASE)\n",
    "\n",
    "def extract_verdict(msg):\n",
    "    match = verdict_pattern.search(msg)\n",
    "    if match:\n",
    "        return match.group(1).upper()\n",
    "    return None\n",
    "\n",
    "df_comments['label'] = df_comments['message'].apply(extract_verdict)\n",
    "df_comments = df_comments[df_comments['label'].notnull()]\n"
   ]
  },
  {
   "cell_type": "code",
   "execution_count": 31,
   "metadata": {
    "colab": {
     "base_uri": "https://localhost:8080/"
    },
    "id": "WW4nFL9ENDz-",
    "outputId": "f1b9e98c-112e-4dfc-9c90-188e3dfabb0a"
   },
   "outputs": [
    {
     "data": {
      "text/plain": [
       "4141248"
      ]
     },
     "execution_count": 31,
     "metadata": {},
     "output_type": "execute_result"
    }
   ],
   "source": [
    "len(df_comments)"
   ]
  },
  {
   "cell_type": "code",
   "execution_count": 32,
   "metadata": {
    "id": "UN112keMMGyL"
   },
   "outputs": [],
   "source": [
    "submission_verdicts = df_comments.groupby('submission_id')['label'].apply(lambda x: Counter(x).most_common(1)[0][0]).reset_index()\n",
    "\n",
    "df_merged = df_submissions.merge(submission_verdicts, on='submission_id')\n",
    "df_merged['text'] = df_merged['title'] + ' ' + df_merged['selftext']"
   ]
  },
  {
   "cell_type": "code",
   "execution_count": 65,
   "metadata": {
    "colab": {
     "base_uri": "https://localhost:8080/",
     "height": 597
    },
    "id": "ipieDCzCOKE9",
    "outputId": "f593095f-5e43-463d-f932-187f032000f3"
   },
   "outputs": [
    {
     "data": {
      "application/vnd.google.colaboratory.intrinsic+json": {
       "summary": "{\n  \"name\": \"df_merged\",\n  \"rows\": 30752,\n  \"fields\": [\n    {\n      \"column\": \"submission_id\",\n      \"properties\": {\n        \"dtype\": \"string\",\n        \"num_unique_values\": 30752,\n        \"samples\": [\n          \"10kzdtc\",\n          \"15zbqzu\",\n          \"14ue5xj\"\n        ],\n        \"semantic_type\": \"\",\n        \"description\": \"\"\n      }\n    },\n    {\n      \"column\": \"title\",\n      \"properties\": {\n        \"dtype\": \"string\",\n        \"num_unique_values\": 30695,\n        \"samples\": [\n          \"WIBTA if I asked my dad for wedding money after he made my worse-off mom pay for their wedding because \\\"the bride's family pays\\\"?\",\n          \"WIBTA if I kept my sister's gift?\",\n          \"AITA for refusing to invite my step-niece to my daughter's Christmas party?\"\n        ],\n        \"semantic_type\": \"\",\n        \"description\": \"\"\n      }\n    },\n    {\n      \"column\": \"selftext\",\n      \"properties\": {\n        \"dtype\": \"string\",\n        \"num_unique_values\": 30502,\n        \"samples\": [\n          \"I\\u2019m 20 and taking the semester off of college so staying at my parents house while I kind of decide what to do next. \\n\\nMy dad had a conference in Anaheim and my mom wanted to go so they asked me to stay so I could feed the dogs and just be present in the house. They were gone for 1.5 weeks. \\n\\nThey got home yesterday and my dad started accusing me of driving his 1960s porsche and leaving it at friends house. The car is his baby and he\\u2019s the second owner, the first was my grandpa. I\\u2019ve driven it once in my life and it made me so nervous I never wanted to drive it again. I promised him I didn\\u2019t drive it but the car was gone. We called the police and they came out and discovered that the cameras by the garage had been broken. And with ring footage from the neighbors and the data from our cameras the car had been stolen about a week ago. My dad is despondent because I guess the longer a car theft goes the harder it is to find it. I feel so bad.\\n\\nHe\\u2019s so mad at me (my mom is too) because I park my XTerra right next to the Porsche and I did not see that it was gone for the entire week. I should have noticed but I just didn\\u2019t. Obviously we know the date it was stolen and I must have pulled in and out and parked next to the empty spot dozens of times and I just didn\\u2019t notice.\\n\\nI think my dad wants to kick me out. Aita?\",\n          \"Backstory: before I met my husband, he purchased a house for his mother to live in with his tour money from Afghanistan.\\n\\nHis step dad died while he was on tour, no life insurance, they were renters. My husband used his money for a down payment on a house that she would live in and he charged her $1000 a month for the past 14 years.\\n\\nWe have been together for 12, married for 9.  We\\u2019ve paid $200 a month to cover costs not covered by her $1000.  Plus we\\u2019ve paid for all the repairs. She is on title for the house for 1% so she had security of being on title and my husband and I own the remaining 99%.\\n\\nWe have decided to sell the house.  My husband offered for her to buy it way under market value and she said no. So he\\u2019s offered to split the profit with her.  It will end up being $120-150k in her pocket when all is said and done.\\n\\nShe treats my husband like shit, ignores me, doesn\\u2019t ask about our kids or know their birthdates.  She\\u2019s not interested in any part of our lives.  She\\u2019s now telling family my husband is somehow taking advantage of her and he\\u2019s the bad guy.\\n\\nShe was a shitty cold mom and with the way her and his step dad treated my husband he moved out at 14 and lived with his bio dad.\\n\\nShe lives about 3 hrs away and my husband made two trips there before listing to fix things that needed repair.  The yard was no kept nicely (MIL is late 50s but in decent shape, and my 31 yr old BIL lives there) we replaced the roof, repainted, he took all their junk they didn\\u2019t want to the dump.  The whole time he was there she treated him like crap, was negative to him and even had a friend over and didn\\u2019t introduce him.\\n\\nAm I an asshole for not wanting to give her anything? I know she will need it, and if she was even a little bit pleasant I could feel good about it.  It was an arrangement my husband had before me so I\\u2019m going along with his wishes, but I don\\u2019t think she deserves anything.   She\\u2019s always treated him like crap, doesn\\u2019t appreciate how he\\u2019s helped her and he\\u2019s splitting all the profit even though we\\u2019ve paid tons out of pocket.\\n\\nShe\\u2019s always had crappy jobs and just did what she had to with no regard for the future, I guess she just expected my husband to foot the bill for her lifestyle? But not her 3 other sons.  Was it not his step fathers job to make sure she was taken care of?\\n\\nIf you read this far thanks.\",\n          \"Long story short,  my 7yo nephew Cain and I have been spending a lot of time together. My brother and Cain's mom deal with some issues. I do have a 17yo son (Lex) and WFH so I have a lot of spare time. \\n\\nI love having Cain because I get to be a little kid dad again. Lex doesn't seem to mind that Cain basically lives here. Yesterday I took him shopping at Target and he asked me if he could this quad drone. I said I had a better idea. You can have Lex's old drone which bigger! We just need batteries because Lex hasn't used it in like 8 years. \\n\\nThen it hit me why not give Cain all of Lex's old toys. Legos, action figures, games, etc all collecting dust in the closet. Cain was so happy about it.\\n\\nWhile I was giving Cain a bath, Cain was playing with some of Lex's toy cars, Lex came into the bathroom and told Cain to pit back his toys  when he's done. Lex was annoyed that Cain was using his toys.\\n\\nI told Cainto ignore Lex and I'll talk to him. After I put Cain to bed, I told Lex that I gave Cain his toys. Lex said to stop and put his stuff back. I said that he's 17yo and has not touched his old toys in like 8 years. So what if I give them to Cain.\\n\\nLex said it was still his. I said yes, but you're 17. You don't play with toys anymore. It's fine to let other kids use them. It's not like I took stuff out of his room. I'm not buying something twice if I already have it home. Be a good cousin.\"\n        ],\n        \"semantic_type\": \"\",\n        \"description\": \"\"\n      }\n    },\n    {\n      \"column\": \"label\",\n      \"properties\": {\n        \"dtype\": \"category\",\n        \"num_unique_values\": 5,\n        \"samples\": [\n          \"YTA\",\n          \"NAH\",\n          \"ESH\"\n        ],\n        \"semantic_type\": \"\",\n        \"description\": \"\"\n      }\n    },\n    {\n      \"column\": \"text\",\n      \"properties\": {\n        \"dtype\": \"string\",\n        \"num_unique_values\": 30751,\n        \"samples\": [\n          \"AITA for keeping a secret from my mother's family about my grandparents' inheritance? My (24f) father passed away when I was 17. It was a tough time for my family and I, but we eventually moved on. 3 years later, my mother decided to remarry. I was hesitant about it at first, but I wanted my mother to be happy, so I tried to give her new husband a chance. The point is: living with this guy is unbearable, and it seems that my mother has followed the same path as him.\\n\\nHowever, my grandparents, who are extremely wealthy and have always loved me very much, always hated him and tried convincing my mother to not marry him. They had various reasons for this, and even after my half-siblings were born, their feelings towards him never changed. My mother's new family is financially irresponsible and they always assumed that they will inherit my grandparents' entire estate, so they are taking advantage and making excessive expenses, to the point of getting into debt.\\n\\nRecently, my grandparents called me over to their house for a personal talk. While we were having dinner, they told me that I will inherit the majority of the estate and my mother will receive only a ridiculous amount. They asked me to promise not to say anything to my mother, and I did as they asked. I feel guilty about this because my mother's family will end up in financial ruin because they are counting on money that doesn't exist.\\n\\nSo, AITA?\",\n          \"AITA for not moving out of a photo spot? Hi all,\\n\\nso I was on vacation chilling in a really nice swimming pool at the hotel. The pool was on the edge of the roof and had a great view on the sunset. I was hanging out in the water at the edge of the pool and watched the sunset (I was the only one in the pool).\\n\\nThere was a man outside of the pool who wanted to take a video of the sunset. He asked me if I can move away \\\"for only 2 minutes\\\" so that he can take a video of the sunset. I want to add that he was not very nice. He was talking with a very annoyed attitude.\\n\\nI told him that the pool is empty and that he can come in the water and go to the edge to have a good view and no people will be on his picture but I guess he did not want to get in the water.\\n\\nHe then said something like \\\"I am asking you polelitely to move away\\\". But he was not polite at all and was almost yelling.\\n\\nHonestly, I could have moved away for a couple minutes but I decided to ignore him because I felt a little bullied and did not want to give in. Of course the chilling was over and the sunset was ruined but again, I sort of did not want to move away out of principle.\",\n          \"AITA for not repeating what I said to my dad a second or even third time. AITA for not repeating what I said to my dad a second time?\\n\\nMum thinks I\\u2019m being mean and I do not, so I need a third party to clear this up.\\n\\nmy dad (60m) needs hearing aids, he has been to the hearing doctor about it and they said he would need them. He doesn\\u2019t want to get them because he thinks it will make him look old so we are stuck with a man loosing his hearing and wanting to do nothing about it.\\n\\nIn the past couple of months it\\u2019s gotten quite bad and whenever I say something to him he he wont hear it and I\\u2019ll have to repeat myself. It\\u2019s so bad now that he can ask me a question like \\u201cwhere are we going\\u201d and I\\u2019ll say \\u201cthe mall\\u201d and I will have to repeat it 2/3 times before he hears it.\\nHe has also started yelling at us if we don\\u2019t repeat ourself quick enough.\\nAlso if he misses half the conversation we get death glared at for not including him.\\n\\nThis is where the asshole part may come in. \\nIve decided to stop repeating myself and just leave him to figure out what I\\u2019ve said as I\\u2019m sick and tired of being yelled at for his bad hearing. I\\u2019m hoping this will push him into getting hearing aids quicker.\\nMum thinks I\\u2019m being mean and unfair to him and I think it\\u2019s punishment for being yelled at constantly.\\n\\nAITA?\"\n        ],\n        \"semantic_type\": \"\",\n        \"description\": \"\"\n      }\n    }\n  ]\n}",
       "type": "dataframe",
       "variable_name": "df_merged"
      },
      "text/html": [
       "\n",
       "  <div id=\"df-085e4ec4-9218-41d7-a0aa-a4733abfea3a\" class=\"colab-df-container\">\n",
       "    <div>\n",
       "<style scoped>\n",
       "    .dataframe tbody tr th:only-of-type {\n",
       "        vertical-align: middle;\n",
       "    }\n",
       "\n",
       "    .dataframe tbody tr th {\n",
       "        vertical-align: top;\n",
       "    }\n",
       "\n",
       "    .dataframe thead th {\n",
       "        text-align: right;\n",
       "    }\n",
       "</style>\n",
       "<table border=\"1\" class=\"dataframe\">\n",
       "  <thead>\n",
       "    <tr style=\"text-align: right;\">\n",
       "      <th></th>\n",
       "      <th>submission_id</th>\n",
       "      <th>title</th>\n",
       "      <th>selftext</th>\n",
       "      <th>label</th>\n",
       "      <th>text</th>\n",
       "    </tr>\n",
       "  </thead>\n",
       "  <tbody>\n",
       "    <tr>\n",
       "      <th>0</th>\n",
       "      <td>xt1ksm</td>\n",
       "      <td>AITA Monthly Open Forum Spooktober 2022</td>\n",
       "      <td>#Keep things civil. Rules still apply.\\n\\n##Th...</td>\n",
       "      <td>NTA</td>\n",
       "      <td>AITA Monthly Open Forum Spooktober 2022 #Keep ...</td>\n",
       "    </tr>\n",
       "    <tr>\n",
       "      <th>1</th>\n",
       "      <td>yiplwk</td>\n",
       "      <td>AITA for asking my friend to move a picture of...</td>\n",
       "      <td>\\n\\nMe (M32) and my wife, Dahlia (F28) lost ou...</td>\n",
       "      <td>YTA</td>\n",
       "      <td>AITA for asking my friend to move a picture of...</td>\n",
       "    </tr>\n",
       "    <tr>\n",
       "      <th>2</th>\n",
       "      <td>yiv572</td>\n",
       "      <td>AITA for asking my husband to stay with me whi...</td>\n",
       "      <td>Throwaway my family knows my account. I'll get...</td>\n",
       "      <td>YTA</td>\n",
       "      <td>AITA for asking my husband to stay with me whi...</td>\n",
       "    </tr>\n",
       "    <tr>\n",
       "      <th>3</th>\n",
       "      <td>yimgaf</td>\n",
       "      <td>AITA for telling my SIL to stop talking about ...</td>\n",
       "      <td>My (37M) wife (37F) is pregnant with our first...</td>\n",
       "      <td>NTA</td>\n",
       "      <td>AITA for telling my SIL to stop talking about ...</td>\n",
       "    </tr>\n",
       "    <tr>\n",
       "      <th>4</th>\n",
       "      <td>yin7pf</td>\n",
       "      <td>AITA for wanting to meet my \"daughter\" after g...</td>\n",
       "      <td>Long story short: in my (40f) twenties I had a...</td>\n",
       "      <td>YTA</td>\n",
       "      <td>AITA for wanting to meet my \"daughter\" after g...</td>\n",
       "    </tr>\n",
       "    <tr>\n",
       "      <th>...</th>\n",
       "      <td>...</td>\n",
       "      <td>...</td>\n",
       "      <td>...</td>\n",
       "      <td>...</td>\n",
       "      <td>...</td>\n",
       "    </tr>\n",
       "    <tr>\n",
       "      <th>30747</th>\n",
       "      <td>17vg85i</td>\n",
       "      <td>AITA for saying to my wife that I’m the one wh...</td>\n",
       "      <td>My (43M) niece (14F) is being raised by my wif...</td>\n",
       "      <td>YTA</td>\n",
       "      <td>AITA for saying to my wife that I’m the one wh...</td>\n",
       "    </tr>\n",
       "    <tr>\n",
       "      <th>30748</th>\n",
       "      <td>17v5nna</td>\n",
       "      <td>AITA for snapping at BIL for accusing me of st...</td>\n",
       "      <td>I (48M) was recently at my sister’s (33F) hous...</td>\n",
       "      <td>NTA</td>\n",
       "      <td>AITA for snapping at BIL for accusing me of st...</td>\n",
       "    </tr>\n",
       "    <tr>\n",
       "      <th>30749</th>\n",
       "      <td>17v959p</td>\n",
       "      <td>AITA for planning a spotlight dance with just ...</td>\n",
       "      <td>I (25M) will be getting married to my amazing ...</td>\n",
       "      <td>NTA</td>\n",
       "      <td>AITA for planning a spotlight dance with just ...</td>\n",
       "    </tr>\n",
       "    <tr>\n",
       "      <th>30750</th>\n",
       "      <td>17ventx</td>\n",
       "      <td>AITA for telling my parents that my siblings a...</td>\n",
       "      <td>I’m catching flak from this from all sides, bu...</td>\n",
       "      <td>NTA</td>\n",
       "      <td>AITA for telling my parents that my siblings a...</td>\n",
       "    </tr>\n",
       "    <tr>\n",
       "      <th>30751</th>\n",
       "      <td>17vcoqv</td>\n",
       "      <td>AITAH for wanting to be on deed of girlfriends...</td>\n",
       "      <td>AITAH for wanting to be on the deed of girlfri...</td>\n",
       "      <td>NAH</td>\n",
       "      <td>AITAH for wanting to be on deed of girlfriends...</td>\n",
       "    </tr>\n",
       "  </tbody>\n",
       "</table>\n",
       "<p>30752 rows × 5 columns</p>\n",
       "</div>\n",
       "    <div class=\"colab-df-buttons\">\n",
       "\n",
       "  <div class=\"colab-df-container\">\n",
       "    <button class=\"colab-df-convert\" onclick=\"convertToInteractive('df-085e4ec4-9218-41d7-a0aa-a4733abfea3a')\"\n",
       "            title=\"Convert this dataframe to an interactive table.\"\n",
       "            style=\"display:none;\">\n",
       "\n",
       "  <svg xmlns=\"http://www.w3.org/2000/svg\" height=\"24px\" viewBox=\"0 -960 960 960\">\n",
       "    <path d=\"M120-120v-720h720v720H120Zm60-500h600v-160H180v160Zm220 220h160v-160H400v160Zm0 220h160v-160H400v160ZM180-400h160v-160H180v160Zm440 0h160v-160H620v160ZM180-180h160v-160H180v160Zm440 0h160v-160H620v160Z\"/>\n",
       "  </svg>\n",
       "    </button>\n",
       "\n",
       "  <style>\n",
       "    .colab-df-container {\n",
       "      display:flex;\n",
       "      gap: 12px;\n",
       "    }\n",
       "\n",
       "    .colab-df-convert {\n",
       "      background-color: #E8F0FE;\n",
       "      border: none;\n",
       "      border-radius: 50%;\n",
       "      cursor: pointer;\n",
       "      display: none;\n",
       "      fill: #1967D2;\n",
       "      height: 32px;\n",
       "      padding: 0 0 0 0;\n",
       "      width: 32px;\n",
       "    }\n",
       "\n",
       "    .colab-df-convert:hover {\n",
       "      background-color: #E2EBFA;\n",
       "      box-shadow: 0px 1px 2px rgba(60, 64, 67, 0.3), 0px 1px 3px 1px rgba(60, 64, 67, 0.15);\n",
       "      fill: #174EA6;\n",
       "    }\n",
       "\n",
       "    .colab-df-buttons div {\n",
       "      margin-bottom: 4px;\n",
       "    }\n",
       "\n",
       "    [theme=dark] .colab-df-convert {\n",
       "      background-color: #3B4455;\n",
       "      fill: #D2E3FC;\n",
       "    }\n",
       "\n",
       "    [theme=dark] .colab-df-convert:hover {\n",
       "      background-color: #434B5C;\n",
       "      box-shadow: 0px 1px 3px 1px rgba(0, 0, 0, 0.15);\n",
       "      filter: drop-shadow(0px 1px 2px rgba(0, 0, 0, 0.3));\n",
       "      fill: #FFFFFF;\n",
       "    }\n",
       "  </style>\n",
       "\n",
       "    <script>\n",
       "      const buttonEl =\n",
       "        document.querySelector('#df-085e4ec4-9218-41d7-a0aa-a4733abfea3a button.colab-df-convert');\n",
       "      buttonEl.style.display =\n",
       "        google.colab.kernel.accessAllowed ? 'block' : 'none';\n",
       "\n",
       "      async function convertToInteractive(key) {\n",
       "        const element = document.querySelector('#df-085e4ec4-9218-41d7-a0aa-a4733abfea3a');\n",
       "        const dataTable =\n",
       "          await google.colab.kernel.invokeFunction('convertToInteractive',\n",
       "                                                    [key], {});\n",
       "        if (!dataTable) return;\n",
       "\n",
       "        const docLinkHtml = 'Like what you see? Visit the ' +\n",
       "          '<a target=\"_blank\" href=https://colab.research.google.com/notebooks/data_table.ipynb>data table notebook</a>'\n",
       "          + ' to learn more about interactive tables.';\n",
       "        element.innerHTML = '';\n",
       "        dataTable['output_type'] = 'display_data';\n",
       "        await google.colab.output.renderOutput(dataTable, element);\n",
       "        const docLink = document.createElement('div');\n",
       "        docLink.innerHTML = docLinkHtml;\n",
       "        element.appendChild(docLink);\n",
       "      }\n",
       "    </script>\n",
       "  </div>\n",
       "\n",
       "\n",
       "    <div id=\"df-bcbf1133-4c10-452e-82e1-fd4e41581bc2\">\n",
       "      <button class=\"colab-df-quickchart\" onclick=\"quickchart('df-bcbf1133-4c10-452e-82e1-fd4e41581bc2')\"\n",
       "                title=\"Suggest charts\"\n",
       "                style=\"display:none;\">\n",
       "\n",
       "<svg xmlns=\"http://www.w3.org/2000/svg\" height=\"24px\"viewBox=\"0 0 24 24\"\n",
       "     width=\"24px\">\n",
       "    <g>\n",
       "        <path d=\"M19 3H5c-1.1 0-2 .9-2 2v14c0 1.1.9 2 2 2h14c1.1 0 2-.9 2-2V5c0-1.1-.9-2-2-2zM9 17H7v-7h2v7zm4 0h-2V7h2v10zm4 0h-2v-4h2v4z\"/>\n",
       "    </g>\n",
       "</svg>\n",
       "      </button>\n",
       "\n",
       "<style>\n",
       "  .colab-df-quickchart {\n",
       "      --bg-color: #E8F0FE;\n",
       "      --fill-color: #1967D2;\n",
       "      --hover-bg-color: #E2EBFA;\n",
       "      --hover-fill-color: #174EA6;\n",
       "      --disabled-fill-color: #AAA;\n",
       "      --disabled-bg-color: #DDD;\n",
       "  }\n",
       "\n",
       "  [theme=dark] .colab-df-quickchart {\n",
       "      --bg-color: #3B4455;\n",
       "      --fill-color: #D2E3FC;\n",
       "      --hover-bg-color: #434B5C;\n",
       "      --hover-fill-color: #FFFFFF;\n",
       "      --disabled-bg-color: #3B4455;\n",
       "      --disabled-fill-color: #666;\n",
       "  }\n",
       "\n",
       "  .colab-df-quickchart {\n",
       "    background-color: var(--bg-color);\n",
       "    border: none;\n",
       "    border-radius: 50%;\n",
       "    cursor: pointer;\n",
       "    display: none;\n",
       "    fill: var(--fill-color);\n",
       "    height: 32px;\n",
       "    padding: 0;\n",
       "    width: 32px;\n",
       "  }\n",
       "\n",
       "  .colab-df-quickchart:hover {\n",
       "    background-color: var(--hover-bg-color);\n",
       "    box-shadow: 0 1px 2px rgba(60, 64, 67, 0.3), 0 1px 3px 1px rgba(60, 64, 67, 0.15);\n",
       "    fill: var(--button-hover-fill-color);\n",
       "  }\n",
       "\n",
       "  .colab-df-quickchart-complete:disabled,\n",
       "  .colab-df-quickchart-complete:disabled:hover {\n",
       "    background-color: var(--disabled-bg-color);\n",
       "    fill: var(--disabled-fill-color);\n",
       "    box-shadow: none;\n",
       "  }\n",
       "\n",
       "  .colab-df-spinner {\n",
       "    border: 2px solid var(--fill-color);\n",
       "    border-color: transparent;\n",
       "    border-bottom-color: var(--fill-color);\n",
       "    animation:\n",
       "      spin 1s steps(1) infinite;\n",
       "  }\n",
       "\n",
       "  @keyframes spin {\n",
       "    0% {\n",
       "      border-color: transparent;\n",
       "      border-bottom-color: var(--fill-color);\n",
       "      border-left-color: var(--fill-color);\n",
       "    }\n",
       "    20% {\n",
       "      border-color: transparent;\n",
       "      border-left-color: var(--fill-color);\n",
       "      border-top-color: var(--fill-color);\n",
       "    }\n",
       "    30% {\n",
       "      border-color: transparent;\n",
       "      border-left-color: var(--fill-color);\n",
       "      border-top-color: var(--fill-color);\n",
       "      border-right-color: var(--fill-color);\n",
       "    }\n",
       "    40% {\n",
       "      border-color: transparent;\n",
       "      border-right-color: var(--fill-color);\n",
       "      border-top-color: var(--fill-color);\n",
       "    }\n",
       "    60% {\n",
       "      border-color: transparent;\n",
       "      border-right-color: var(--fill-color);\n",
       "    }\n",
       "    80% {\n",
       "      border-color: transparent;\n",
       "      border-right-color: var(--fill-color);\n",
       "      border-bottom-color: var(--fill-color);\n",
       "    }\n",
       "    90% {\n",
       "      border-color: transparent;\n",
       "      border-bottom-color: var(--fill-color);\n",
       "    }\n",
       "  }\n",
       "</style>\n",
       "\n",
       "      <script>\n",
       "        async function quickchart(key) {\n",
       "          const quickchartButtonEl =\n",
       "            document.querySelector('#' + key + ' button');\n",
       "          quickchartButtonEl.disabled = true;  // To prevent multiple clicks.\n",
       "          quickchartButtonEl.classList.add('colab-df-spinner');\n",
       "          try {\n",
       "            const charts = await google.colab.kernel.invokeFunction(\n",
       "                'suggestCharts', [key], {});\n",
       "          } catch (error) {\n",
       "            console.error('Error during call to suggestCharts:', error);\n",
       "          }\n",
       "          quickchartButtonEl.classList.remove('colab-df-spinner');\n",
       "          quickchartButtonEl.classList.add('colab-df-quickchart-complete');\n",
       "        }\n",
       "        (() => {\n",
       "          let quickchartButtonEl =\n",
       "            document.querySelector('#df-bcbf1133-4c10-452e-82e1-fd4e41581bc2 button');\n",
       "          quickchartButtonEl.style.display =\n",
       "            google.colab.kernel.accessAllowed ? 'block' : 'none';\n",
       "        })();\n",
       "      </script>\n",
       "    </div>\n",
       "\n",
       "  <div id=\"id_a1722897-9d2d-4554-93a7-b2e92592edbd\">\n",
       "    <style>\n",
       "      .colab-df-generate {\n",
       "        background-color: #E8F0FE;\n",
       "        border: none;\n",
       "        border-radius: 50%;\n",
       "        cursor: pointer;\n",
       "        display: none;\n",
       "        fill: #1967D2;\n",
       "        height: 32px;\n",
       "        padding: 0 0 0 0;\n",
       "        width: 32px;\n",
       "      }\n",
       "\n",
       "      .colab-df-generate:hover {\n",
       "        background-color: #E2EBFA;\n",
       "        box-shadow: 0px 1px 2px rgba(60, 64, 67, 0.3), 0px 1px 3px 1px rgba(60, 64, 67, 0.15);\n",
       "        fill: #174EA6;\n",
       "      }\n",
       "\n",
       "      [theme=dark] .colab-df-generate {\n",
       "        background-color: #3B4455;\n",
       "        fill: #D2E3FC;\n",
       "      }\n",
       "\n",
       "      [theme=dark] .colab-df-generate:hover {\n",
       "        background-color: #434B5C;\n",
       "        box-shadow: 0px 1px 3px 1px rgba(0, 0, 0, 0.15);\n",
       "        filter: drop-shadow(0px 1px 2px rgba(0, 0, 0, 0.3));\n",
       "        fill: #FFFFFF;\n",
       "      }\n",
       "    </style>\n",
       "    <button class=\"colab-df-generate\" onclick=\"generateWithVariable('df_merged')\"\n",
       "            title=\"Generate code using this dataframe.\"\n",
       "            style=\"display:none;\">\n",
       "\n",
       "  <svg xmlns=\"http://www.w3.org/2000/svg\" height=\"24px\"viewBox=\"0 0 24 24\"\n",
       "       width=\"24px\">\n",
       "    <path d=\"M7,19H8.4L18.45,9,17,7.55,7,17.6ZM5,21V16.75L18.45,3.32a2,2,0,0,1,2.83,0l1.4,1.43a1.91,1.91,0,0,1,.58,1.4,1.91,1.91,0,0,1-.58,1.4L9.25,21ZM18.45,9,17,7.55Zm-12,3A5.31,5.31,0,0,0,4.9,8.1,5.31,5.31,0,0,0,1,6.5,5.31,5.31,0,0,0,4.9,4.9,5.31,5.31,0,0,0,6.5,1,5.31,5.31,0,0,0,8.1,4.9,5.31,5.31,0,0,0,12,6.5,5.46,5.46,0,0,0,6.5,12Z\"/>\n",
       "  </svg>\n",
       "    </button>\n",
       "    <script>\n",
       "      (() => {\n",
       "      const buttonEl =\n",
       "        document.querySelector('#id_a1722897-9d2d-4554-93a7-b2e92592edbd button.colab-df-generate');\n",
       "      buttonEl.style.display =\n",
       "        google.colab.kernel.accessAllowed ? 'block' : 'none';\n",
       "\n",
       "      buttonEl.onclick = () => {\n",
       "        google.colab.notebook.generateWithVariable('df_merged');\n",
       "      }\n",
       "      })();\n",
       "    </script>\n",
       "  </div>\n",
       "\n",
       "    </div>\n",
       "  </div>\n"
      ],
      "text/plain": [
       "      submission_id                                              title  \\\n",
       "0            xt1ksm            AITA Monthly Open Forum Spooktober 2022   \n",
       "1            yiplwk  AITA for asking my friend to move a picture of...   \n",
       "2            yiv572  AITA for asking my husband to stay with me whi...   \n",
       "3            yimgaf  AITA for telling my SIL to stop talking about ...   \n",
       "4            yin7pf  AITA for wanting to meet my \"daughter\" after g...   \n",
       "...             ...                                                ...   \n",
       "30747       17vg85i  AITA for saying to my wife that I’m the one wh...   \n",
       "30748       17v5nna  AITA for snapping at BIL for accusing me of st...   \n",
       "30749       17v959p  AITA for planning a spotlight dance with just ...   \n",
       "30750       17ventx  AITA for telling my parents that my siblings a...   \n",
       "30751       17vcoqv  AITAH for wanting to be on deed of girlfriends...   \n",
       "\n",
       "                                                selftext label  \\\n",
       "0      #Keep things civil. Rules still apply.\\n\\n##Th...   NTA   \n",
       "1      \\n\\nMe (M32) and my wife, Dahlia (F28) lost ou...   YTA   \n",
       "2      Throwaway my family knows my account. I'll get...   YTA   \n",
       "3      My (37M) wife (37F) is pregnant with our first...   NTA   \n",
       "4      Long story short: in my (40f) twenties I had a...   YTA   \n",
       "...                                                  ...   ...   \n",
       "30747  My (43M) niece (14F) is being raised by my wif...   YTA   \n",
       "30748  I (48M) was recently at my sister’s (33F) hous...   NTA   \n",
       "30749  I (25M) will be getting married to my amazing ...   NTA   \n",
       "30750  I’m catching flak from this from all sides, bu...   NTA   \n",
       "30751  AITAH for wanting to be on the deed of girlfri...   NAH   \n",
       "\n",
       "                                                    text  \n",
       "0      AITA Monthly Open Forum Spooktober 2022 #Keep ...  \n",
       "1      AITA for asking my friend to move a picture of...  \n",
       "2      AITA for asking my husband to stay with me whi...  \n",
       "3      AITA for telling my SIL to stop talking about ...  \n",
       "4      AITA for wanting to meet my \"daughter\" after g...  \n",
       "...                                                  ...  \n",
       "30747  AITA for saying to my wife that I’m the one wh...  \n",
       "30748  AITA for snapping at BIL for accusing me of st...  \n",
       "30749  AITA for planning a spotlight dance with just ...  \n",
       "30750  AITA for telling my parents that my siblings a...  \n",
       "30751  AITAH for wanting to be on deed of girlfriends...  \n",
       "\n",
       "[30752 rows x 5 columns]"
      ]
     },
     "execution_count": 65,
     "metadata": {},
     "output_type": "execute_result"
    }
   ],
   "source": [
    "df_merged"
   ]
  },
  {
   "cell_type": "code",
   "execution_count": 35,
   "metadata": {},
   "outputs": [
    {
     "name": "stdout",
     "output_type": "stream",
     "text": [
      "Counter({'NTA': 25027, 'YTA': 5386, 'ESH': 247, 'NAH': 133, 'INFO': 48})\n",
      "24672 3084 3085\n"
     ]
    }
   ],
   "source": [
    "from sklearn.model_selection import train_test_split\n",
    "from collections import Counter\n",
    "import torch, numpy as np, pandas as pd\n",
    "\n",
    "# 1.1 quedarnos solo con los 5 veredictos\n",
    "target_labels = ['NTA', 'YTA', 'ESH', 'NAH', 'INFO']\n",
    "df = df_merged[df_merged['label'].isin(target_labels)].copy()\n",
    "\n",
    "print(Counter(df['label']))       # inspecciona el desbalance\n",
    "\n",
    "# 1.2 codificar etiquetas → números\n",
    "label2id = {lab: i for i, lab in enumerate(target_labels)}\n",
    "id2label = {i: lab for lab, i in label2id.items()}\n",
    "df['label_id'] = df['label'].map(label2id)\n",
    "\n",
    "# 1.3 dividir\n",
    "train_df, tmp_df = train_test_split(df, test_size=0.2, stratify=df['label_id'], random_state=42)\n",
    "val_df, test_df  = train_test_split(tmp_df, test_size=0.5, stratify=tmp_df['label_id'], random_state=42)\n",
    "\n",
    "print(len(train_df), len(val_df), len(test_df))\n"
   ]
  },
  {
   "cell_type": "code",
   "execution_count": 37,
   "metadata": {},
   "outputs": [
    {
     "name": "stdout",
     "output_type": "stream",
     "text": [
      "Using device: cuda\n"
     ]
    }
   ],
   "source": [
    "from transformers import BertTokenizerFast, BertForSequenceClassification, BertConfig, BertModel\n",
    "import torch\n",
    "\n",
    "MODEL_NAME = 'bert-base-uncased'\n",
    "\n",
    "tokenizer = BertTokenizerFast.from_pretrained(MODEL_NAME)\n",
    "\n",
    "device = torch.device(\"cuda\" if torch.cuda.is_available() else \"cpu\")\n",
    "print(\"Using device:\", device)"
   ]
  },
  {
   "cell_type": "code",
   "execution_count": 39,
   "metadata": {},
   "outputs": [],
   "source": [
    "from torch.utils.data import Dataset, DataLoader\n",
    "\n",
    "MAX_LEN = 256          # 256 cubre >95 % de los posts\n",
    "\n",
    "def tokenize(batch):\n",
    "    return tokenizer(batch['text'],\n",
    "                     padding='max_length',\n",
    "                     truncation=True,\n",
    "                     max_length=MAX_LEN)\n",
    "\n",
    "class AITADataset(torch.utils.data.Dataset):\n",
    "    def __init__(self, df):\n",
    "        self.encodings = tokenize(df.to_dict('list'))\n",
    "        self.labels    = df['label_id'].tolist()\n",
    "    def __len__(self): return len(self.labels)\n",
    "    def __getitem__(self, idx):\n",
    "        item = {k: torch.tensor(v[idx]) for k, v in self.encodings.items()}\n",
    "        item[\"labels\"] = torch.tensor(self.labels[idx])\n",
    "        return item\n",
    "\n",
    "train_ds = AITADataset(train_df)\n",
    "val_ds   = AITADataset(val_df)\n",
    "test_ds  = AITADataset(test_df)\n",
    "\n",
    "train_loader = DataLoader(train_ds, batch_size=32, shuffle=True)\n",
    "val_loader = DataLoader(val_ds, batch_size=32)\n",
    "test_loader =  DataLoader(test_ds, batch_size=32)"
   ]
  },
  {
   "cell_type": "code",
   "execution_count": 45,
   "metadata": {},
   "outputs": [
    {
     "name": "stderr",
     "output_type": "stream",
     "text": [
      "Some weights of BertForSequenceClassification were not initialized from the model checkpoint at bert-base-uncased and are newly initialized: ['classifier.bias', 'classifier.weight']\n",
      "You should probably TRAIN this model on a down-stream task to be able to use it for predictions and inference.\n"
     ]
    },
    {
     "name": "stdout",
     "output_type": "stream",
     "text": [
      "\n",
      "Epoch 1/5\n"
     ]
    },
    {
     "name": "stderr",
     "output_type": "stream",
     "text": [
      "Training: 100%|███████████████████████████████| 771/771 [01:45<00:00,  7.28it/s]\n"
     ]
    },
    {
     "name": "stdout",
     "output_type": "stream",
     "text": [
      "Average training loss: 0.5430\n"
     ]
    },
    {
     "name": "stderr",
     "output_type": "stream",
     "text": [
      "Validation: 100%|███████████████████████████████| 97/97 [00:04<00:00, 22.26it/s]\n"
     ]
    },
    {
     "name": "stdout",
     "output_type": "stream",
     "text": [
      "Validation Accuracy: 0.8116\n",
      "\n",
      "Epoch 2/5\n"
     ]
    },
    {
     "name": "stderr",
     "output_type": "stream",
     "text": [
      "Training: 100%|███████████████████████████████| 771/771 [01:46<00:00,  7.23it/s]\n"
     ]
    },
    {
     "name": "stdout",
     "output_type": "stream",
     "text": [
      "Average training loss: 0.4947\n"
     ]
    },
    {
     "name": "stderr",
     "output_type": "stream",
     "text": [
      "Validation: 100%|███████████████████████████████| 97/97 [00:04<00:00, 22.16it/s]\n"
     ]
    },
    {
     "name": "stdout",
     "output_type": "stream",
     "text": [
      "Validation Accuracy: 0.8161\n",
      "\n",
      "Epoch 3/5\n"
     ]
    },
    {
     "name": "stderr",
     "output_type": "stream",
     "text": [
      "Training: 100%|███████████████████████████████| 771/771 [01:46<00:00,  7.21it/s]\n"
     ]
    },
    {
     "name": "stdout",
     "output_type": "stream",
     "text": [
      "Average training loss: 0.4375\n"
     ]
    },
    {
     "name": "stderr",
     "output_type": "stream",
     "text": [
      "Validation: 100%|███████████████████████████████| 97/97 [00:04<00:00, 22.15it/s]\n"
     ]
    },
    {
     "name": "stdout",
     "output_type": "stream",
     "text": [
      "Validation Accuracy: 0.8051\n",
      "\n",
      "Epoch 4/5\n"
     ]
    },
    {
     "name": "stderr",
     "output_type": "stream",
     "text": [
      "Training: 100%|███████████████████████████████| 771/771 [01:46<00:00,  7.21it/s]\n"
     ]
    },
    {
     "name": "stdout",
     "output_type": "stream",
     "text": [
      "Average training loss: 0.3424\n"
     ]
    },
    {
     "name": "stderr",
     "output_type": "stream",
     "text": [
      "Validation: 100%|███████████████████████████████| 97/97 [00:04<00:00, 22.13it/s]\n"
     ]
    },
    {
     "name": "stdout",
     "output_type": "stream",
     "text": [
      "Validation Accuracy: 0.7834\n",
      "\n",
      "Epoch 5/5\n"
     ]
    },
    {
     "name": "stderr",
     "output_type": "stream",
     "text": [
      "Training: 100%|███████████████████████████████| 771/771 [01:48<00:00,  7.13it/s]\n"
     ]
    },
    {
     "name": "stdout",
     "output_type": "stream",
     "text": [
      "Average training loss: 0.2251\n"
     ]
    },
    {
     "name": "stderr",
     "output_type": "stream",
     "text": [
      "Validation: 100%|███████████████████████████████| 97/97 [00:04<00:00, 22.14it/s]"
     ]
    },
    {
     "name": "stdout",
     "output_type": "stream",
     "text": [
      "Validation Accuracy: 0.7740\n"
     ]
    },
    {
     "name": "stderr",
     "output_type": "stream",
     "text": [
      "\n"
     ]
    }
   ],
   "source": [
    "from torch.optim import AdamW\n",
    "from tqdm import tqdm\n",
    "from sklearn.metrics import precision_recall_fscore_support, accuracy_score\n",
    "\n",
    "\n",
    "\n",
    "def train_step(model, optimizer, total_loss, batch):\n",
    "    \"\"\"\n",
    "    Ejecuta un solo paso de entrenamiento para un modelo y optimizador dados.\n",
    "    El método realiza el pase hacia adelante del modelo con el lote de entrada, calcula la pérdida, retropropaga los gradientes y realiza un paso de optimización.\n",
    "    La pérdida total se actualiza y se devuelve después de la operación.\n",
    "\n",
    "    :param model: El modelo a entrenar.\n",
    "    :param optimizer: The optimization algorithm used to update the model's parameters.\n",
    "    :param total_loss: The cumulative loss that will be updated by adding the loss\n",
    "        from the current batch.\n",
    "    :param batch: A dictionary containing the input data for the model with keys\n",
    "        'input_ids', 'attention_mask', and 'labels', required for the forward pass.\n",
    "    :return: The updated total loss after adding the loss from the current batch.\n",
    "    \"\"\"\n",
    "    input_ids = batch['input_ids'].to(device)\n",
    "    attention_mask = batch['attention_mask'].to(device)\n",
    "    labels = batch['labels'].to(device)\n",
    "\n",
    "    outputs = model(input_ids=input_ids, attention_mask=attention_mask, labels=labels)\n",
    "    loss = outputs.loss\n",
    "    total_loss += loss.item()\n",
    "\n",
    "    optimizer.zero_grad()\n",
    "    loss.backward()\n",
    "    optimizer.step()\n",
    "\n",
    "    return total_loss\n",
    "\n",
    "\n",
    "def validation_step(model, val_loader):\n",
    "    model.eval()\n",
    "    all_preds = []\n",
    "    all_labels = []\n",
    "\n",
    "    with torch.no_grad():\n",
    "        for batch in tqdm(val_loader, desc=\"Validation\"):\n",
    "            input_ids = batch['input_ids'].to(device)\n",
    "            attention_mask = batch['attention_mask'].to(device)\n",
    "            labels = batch['labels'].to(device)\n",
    "\n",
    "            outputs = model(input_ids=input_ids, attention_mask=attention_mask)\n",
    "            preds = torch.argmax(outputs.logits, dim=1)\n",
    "\n",
    "            all_preds.extend(preds.cpu().numpy())\n",
    "            all_labels.extend(labels.cpu().numpy())\n",
    "\n",
    "    acc = accuracy_score(all_labels, all_preds)\n",
    "    print(f\"Validation Accuracy: {acc:.4f}\")\n",
    "\n",
    "\n",
    "def train(model, train_loader, val_loader, epochs=1):\n",
    "    optimizer = AdamW(model.parameters(), lr=2e-5, weight_decay=0.03)\n",
    "    for epoch in range(epochs):\n",
    "        print(f\"\\nEpoch {epoch + 1}/{epochs}\")\n",
    "        model.train()\n",
    "        total_loss = 0\n",
    "\n",
    "        for batch in tqdm(train_loader, desc=\"Training\"):\n",
    "            total_loss = train_step(model, optimizer, total_loss, batch)\n",
    "\n",
    "        avg_train_loss = total_loss / len(train_loader)\n",
    "        print(f\"Average training loss: {avg_train_loss:.4f}\")\n",
    "\n",
    "        validation_step(model, val_loader)\n",
    "\n",
    "\n",
    "    \n",
    "        \n",
    "model = BertForSequenceClassification.from_pretrained(\n",
    "            MODEL_NAME,\n",
    "            num_labels=5\n",
    "        )\n",
    "model.to(device)\n",
    "train(model, train_loader, val_loader, epochs=5)\n",
    "\n",
    "\n"
   ]
  },
  {
   "cell_type": "code",
   "execution_count": 51,
   "metadata": {},
   "outputs": [
    {
     "name": "stdout",
     "output_type": "stream",
     "text": [
      "\n",
      "Evaluating model on the test set...\n"
     ]
    },
    {
     "name": "stderr",
     "output_type": "stream",
     "text": [
      "Evaluating on Test Set: 100%|███████████████████| 97/97 [00:04<00:00, 22.96it/s]"
     ]
    },
    {
     "name": "stdout",
     "output_type": "stream",
     "text": [
      "\n",
      "--- Test Set Evaluation ---\n",
      "Accuracy: 0.7750\n",
      "Weighted Precision: 0.7620\n",
      "Weighted Recall: 0.7750\n",
      "Weighted F1-Score: 0.7685\n",
      "\n",
      "Classification Report:\n",
      "              precision    recall  f1-score   support\n",
      "\n",
      "         NTA       0.86      0.87      0.86      2503\n",
      "         YTA       0.39      0.38      0.38       539\n",
      "         ESH       0.00      0.00      0.00        25\n",
      "         NAH       0.00      0.00      0.00        13\n",
      "        INFO       0.00      0.00      0.00         5\n",
      "\n",
      "    accuracy                           0.78      3085\n",
      "   macro avg       0.25      0.25      0.25      3085\n",
      "weighted avg       0.76      0.78      0.77      3085\n",
      "\n",
      "\n",
      "Making a prediction on a new example...\n",
      "\n",
      "--- Prediction for new text ---\n",
      "Input Text: \"AITA for telling my roommate to clean his dishes? He leaves them in the sink for days and it's start...\"\n",
      "Predicted Label: NTA\n",
      "Confidence: 0.5181\n",
      "\n",
      "--- Prediction for new text ---\n",
      "Input Text: \"My sister wants to name her baby a name I was planning to use for my future child. I told her she co...\"\n",
      "Predicted Label: NTA\n",
      "Confidence: 0.9677\n",
      "\n",
      "--- Prediction for new text ---\n",
      "Input Text: \"I accidentally tripped someone at the grocery store. I apologized immediately and helped them up. Th...\"\n",
      "Predicted Label: YTA\n",
      "Confidence: 0.5814\n"
     ]
    },
    {
     "name": "stderr",
     "output_type": "stream",
     "text": [
      "\n",
      "/home/sis.virtual.uniandes.edu.co/ca.espitiaa/venv/lib/python3.10/site-packages/sklearn/metrics/_classification.py:1565: UndefinedMetricWarning: Precision is ill-defined and being set to 0.0 in labels with no predicted samples. Use `zero_division` parameter to control this behavior.\n",
      "  _warn_prf(average, modifier, f\"{metric.capitalize()} is\", len(result))\n"
     ]
    }
   ],
   "source": [
    "def evaluate_model(model, test_loader, device, idx_to_label_map):\n",
    "    model.eval()  # Poner el modelo en modo de evaluación\n",
    "    all_preds = []\n",
    "    all_labels = []\n",
    "\n",
    "    with torch.no_grad():  # No necesitamos calcular gradientes durante la evaluación\n",
    "        for batch in tqdm(test_loader, desc=\"Evaluating on Test Set\"):\n",
    "            input_ids = batch['input_ids'].to(device)\n",
    "            attention_mask = batch['attention_mask'].to(device)\n",
    "            labels = batch['labels'].to(device)\n",
    "\n",
    "            outputs = model(input_ids=input_ids, attention_mask=attention_mask)\n",
    "            # outputs.logits tiene la forma (batch_size, num_labels)\n",
    "            # Tomamos el argmax para obtener la clase predicha\n",
    "            preds = torch.argmax(outputs.logits, dim=1)\n",
    "\n",
    "            all_preds.extend(preds.cpu().numpy())\n",
    "            all_labels.extend(labels.cpu().numpy())\n",
    "\n",
    "    accuracy = accuracy_score(all_labels, all_preds)\n",
    "    precision, recall, f1, _ = precision_recall_fscore_support(all_labels, all_preds, average='weighted')\n",
    "\n",
    "    print(f\"\\n--- Test Set Evaluation ---\")\n",
    "    print(f\"Accuracy: {accuracy:.4f}\")\n",
    "    print(f\"Weighted Precision: {precision:.4f}\")\n",
    "    print(f\"Weighted Recall: {recall:.4f}\")\n",
    "    print(f\"Weighted F1-Score: {f1:.4f}\")\n",
    "\n",
    "    # Reporte de clasificación más detallado\n",
    "    # Mapear los índices a nombres de etiquetas para el reporte\n",
    "    target_names = [idx_to_label_map[i] for i in sorted(idx_to_label_map.keys())]\n",
    "    print(\"\\nClassification Report:\")\n",
    "    # Es importante que all_labels y all_preds contengan los índices numéricos\n",
    "    # y que target_names esté en el orden correcto de esos índices.\n",
    "    # Si tus etiquetas no son 0,1,2,3,4, necesitarás ajustar 'labels' en classification_report\n",
    "    unique_labels_in_data = sorted(list(set(all_labels) | set(all_preds)))\n",
    "    report_target_names = [idx_to_label_map[i] for i in unique_labels_in_data]\n",
    "    \n",
    "    print(classification_report(all_labels, all_preds, target_names=report_target_names, labels=unique_labels_in_data, zero_division=0))\n",
    "    \n",
    "    return all_preds, all_labels\n",
    "\n",
    "# --- Función para predecir en un texto nuevo ---\n",
    "def predict_new_text(text_input, model, tokenizer, device, idx_to_label_map, max_len=512):\n",
    "    model.eval() # Poner el modelo en modo de evaluación\n",
    "\n",
    "    # Tokenizar el texto de entrada\n",
    "    encoding = tokenizer.encode_plus(\n",
    "        text_input,\n",
    "        add_special_tokens=True,\n",
    "        max_length=max_len,\n",
    "        return_token_type_ids=False,\n",
    "        padding='max_length', # Asegurar padding a max_len\n",
    "        truncation=True,\n",
    "        return_attention_mask=True,\n",
    "        return_tensors='pt',  # Retornar tensores de PyTorch\n",
    "    )\n",
    "\n",
    "    input_ids = encoding['input_ids'].to(device)\n",
    "    attention_mask = encoding['attention_mask'].to(device)\n",
    "\n",
    "    with torch.no_grad(): # No calcular gradientes\n",
    "        outputs = model(input_ids=input_ids, attention_mask=attention_mask)\n",
    "\n",
    "    prediction_idx = torch.argmax(outputs.logits, dim=1).item() # .item() para obtener el valor Python\n",
    "    predicted_label = idx_to_label_map.get(prediction_idx, \"Unknown Label\")\n",
    "\n",
    "    # Opcional: obtener probabilidades\n",
    "    probabilities = torch.softmax(outputs.logits, dim=1).squeeze().cpu().numpy()\n",
    "    confidence = probabilities[prediction_idx]\n",
    "    \n",
    "    print(f\"\\n--- Prediction for new text ---\")\n",
    "    print(f\"Input Text: \\\"{text_input[:100]}...\\\"\") # Mostrar solo una parte si es largo\n",
    "    print(f\"Predicted Label: {predicted_label}\")\n",
    "    print(f\"Confidence: {confidence:.4f}\")\n",
    "    # print(\"Probabilities per class:\")\n",
    "    # for i, prob in enumerate(probabilities):\n",
    "    #     print(f\"  {idx_to_label_map.get(i, f'Class {i}')}: {prob:.4f}\")\n",
    "        \n",
    "    return predicted_label, confidence\n",
    "\n",
    "\n",
    "# --- Ejecución ---\n",
    "# Asegúrate de que 'model', 'test_loader', 'device', 'idx_to_label' (o tu mapeo)\n",
    "# y 'tokenizer' estén definidos y sean los correctos.\n",
    "\n",
    "# 1. Evaluar en el conjunto de prueba\n",
    "print(\"\\nEvaluating model on the test set...\")\n",
    "\n",
    "test_preds, test_labels = evaluate_model(model, test_loader, device, id2label)\n",
    "\n",
    "\n",
    "# 2. Probar con un ejemplo nuevo\n",
    "print(\"\\nMaking a prediction on a new example...\")\n",
    "# Suponiendo que 'model', 'tokenizer', 'device', 'idx_to_label' están definidos.\n",
    "# El tokenizer debe ser el mismo que usaste para entrenar (BertTokenizerFast.from_pretrained(MODEL_NAME))\n",
    "\n",
    "new_post_example_1 = \"AITA for telling my roommate to clean his dishes? He leaves them in the sink for days and it's starting to smell. I've asked him politely multiple times.\"\n",
    "new_post_example_2 = \"My sister wants to name her baby a name I was planning to use for my future child. I told her she couldn't, and now she's mad. AITA?\"\n",
    "new_post_example_3 = \"I accidentally tripped someone at the grocery store. I apologized immediately and helped them up. They said it was fine. So, am I the asshole for tripping them even if it was an accident?\"\n",
    "\n",
    "# Ejemplo de cómo llamar a la función de predicción:\n",
    "if 'model' in locals() and 'tokenizer' in locals() and 'device' in locals() and 'id2label' in locals():\n",
    "    predicted_label_1, confidence_1 = predict_new_text(new_post_example_1, model, tokenizer, device, id2label)\n",
    "    predicted_label_2, confidence_2 = predict_new_text(new_post_example_2, model, tokenizer, device, id2label)\n",
    "    predicted_label_3, confidence_3 = predict_new_text(new_post_example_3, model, tokenizer, device, id2label)\n",
    "else:\n",
    "    print(\"Error: 'model', 'tokenizer', 'device', o 'idx_to_label' no están definidos para la predicción.\")"
   ]
  }
 ],
 "metadata": {
  "colab": {
   "provenance": []
  },
  "kernelspec": {
   "display_name": "Python 3 (ipykernel)",
   "language": "python",
   "name": "python3"
  },
  "language_info": {
   "codemirror_mode": {
    "name": "ipython",
    "version": 3
   },
   "file_extension": ".py",
   "mimetype": "text/x-python",
   "name": "python",
   "nbconvert_exporter": "python",
   "pygments_lexer": "ipython3",
   "version": "3.10.12"
  }
 },
 "nbformat": 4,
 "nbformat_minor": 4
}
